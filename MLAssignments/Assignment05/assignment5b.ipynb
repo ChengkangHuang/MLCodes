{
 "cells": [
  {
   "cell_type": "code",
   "execution_count": 8,
   "metadata": {},
   "outputs": [],
   "source": [
    "import os\n",
    "import numpy as np\n",
    "import matplotlib.pyplot as plt\n",
    "from sklearn.linear_model import LinearRegression\n",
    "from sklearn.model_selection import train_test_split"
   ]
  },
  {
   "cell_type": "code",
   "execution_count": 26,
   "metadata": {},
   "outputs": [],
   "source": [
    "def readCSV(fileName: str):\n",
    "    \"\"\" Read the .csv file and combine all data into a large dataset\n",
    "\n",
    "    Read .csv file from current folder, put all records into numpy array, and \n",
    "    return the dataset and labels.\n",
    "\n",
    "    Arg:\n",
    "        fileName(str): The string that contain the .csv file location.\n",
    "\n",
    "    Return:\n",
    "        A numpy array that contain all record from .csv file.\n",
    "        The labels for all features.\n",
    "\n",
    "    Rasies:\n",
    "        File Error: File not exist or not in the correct location.\n",
    "    \"\"\"\n",
    "    pass\n",
    "\n",
    "    try:\n",
    "        data = np.loadtxt(fileName, delimiter=',', skiprows=1)\n",
    "        datasets = data[:, 1:]\n",
    "        labels = data[:, 0:1]\n",
    "        return datasets, np.ravel(labels)\n",
    "    except:\n",
    "        print(\"Open file error\")"
   ]
  },
  {
   "cell_type": "code",
   "execution_count": 27,
   "metadata": {},
   "outputs": [],
   "source": [
    "fileName = \"accelerometer.csv\"\n",
    "X, y = readCSV(fileName)"
   ]
  },
  {
   "cell_type": "code",
   "execution_count": 11,
   "metadata": {},
   "outputs": [
    {
     "data": {
      "text/plain": [
       "array([[ 2.000e+01,  1.004e+00,  9.000e-02, -1.250e-01],\n",
       "       [ 2.000e+01,  1.004e+00, -4.300e-02, -1.250e-01],\n",
       "       [ 2.000e+01,  9.690e-01,  9.000e-02, -1.210e-01],\n",
       "       ...,\n",
       "       [ 1.000e+02,  1.156e+00, -9.400e-02, -2.270e-01],\n",
       "       [ 1.000e+02,  9.340e-01,  2.030e-01, -1.720e-01],\n",
       "       [ 1.000e+02,  1.199e+00, -1.760e-01,  1.090e-01]])"
      ]
     },
     "execution_count": 11,
     "metadata": {},
     "output_type": "execute_result"
    }
   ],
   "source": [
    "X"
   ]
  },
  {
   "cell_type": "code",
   "execution_count": 12,
   "metadata": {},
   "outputs": [
    {
     "data": {
      "text/plain": [
       "array([1., 1., 1., ..., 3., 3., 3.])"
      ]
     },
     "execution_count": 12,
     "metadata": {},
     "output_type": "execute_result"
    }
   ],
   "source": [
    "y"
   ]
  },
  {
   "cell_type": "code",
   "execution_count": 16,
   "metadata": {},
   "outputs": [],
   "source": [
    "X_train, X_test, y_train, y_test = train_test_split(X, y, test_size=0.25, random_state=32)"
   ]
  },
  {
   "cell_type": "code",
   "execution_count": 17,
   "metadata": {},
   "outputs": [
    {
     "data": {
      "text/plain": [
       "LinearRegression()"
      ]
     },
     "execution_count": 17,
     "metadata": {},
     "output_type": "execute_result"
    }
   ],
   "source": [
    "lin_reg = LinearRegression().fit(X_train, y_train)\n",
    "lin_reg"
   ]
  },
  {
   "cell_type": "code",
   "execution_count": 35,
   "metadata": {},
   "outputs": [
    {
     "name": "stdout",
     "output_type": "stream",
     "text": [
      "The training dataset size is:  114750\n",
      "The testing dataset size is:  38250\n",
      "The feature size is:  4\n",
      "The R-squared value is:  -0.00011956232396514999\n",
      "The rss is:  25446.625989445376\n",
      "The correlation coefficient is:  0.007135203992771844\n",
      "The weighted rss is:  0.6652712676979183\n",
      "The intercept is:  2.00275265822727\n"
     ]
    }
   ],
   "source": [
    "y_pred = lin_reg.predict(X_test)\n",
    "print(\"The training dataset size is: \", len(X_train))\n",
    "print(\"The testing dataset size is: \", len(X_test))\n",
    "print(\"The feature size is: \", len(X_train[0]))\n",
    "print(\"The R-squared value is: \", lin_reg.score(X_test, y_test))\n",
    "print(\"The rss is: \", np.sum(np.square(y_pred - y_test)))\n",
    "print(\"The correlation coefficient is: \", np.corrcoef(y_pred, y_test)[0, 1])\n",
    "print(\"The weighted rss is: \", np.sum(np.square(y_pred - y_test)) / len(y_test))\n",
    "print(\"The intercept is: \", lin_reg.intercept_)"
   ]
  }
 ],
 "metadata": {
  "interpreter": {
   "hash": "fcdafa320b1bd52415b4da26a3e91d8c55e0b68a992d8fe533e9215398eb0247"
  },
  "kernelspec": {
   "display_name": "Python 3.9.7 ('base')",
   "language": "python",
   "name": "python3"
  },
  "language_info": {
   "codemirror_mode": {
    "name": "ipython",
    "version": 3
   },
   "file_extension": ".py",
   "mimetype": "text/x-python",
   "name": "python",
   "nbconvert_exporter": "python",
   "pygments_lexer": "ipython3",
   "version": "3.9.7"
  },
  "orig_nbformat": 4
 },
 "nbformat": 4,
 "nbformat_minor": 2
}
