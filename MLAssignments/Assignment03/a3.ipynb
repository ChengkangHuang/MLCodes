{
 "cells": [
  {
   "cell_type": "code",
   "execution_count": 145,
   "metadata": {},
   "outputs": [],
   "source": [
    "# Import the libraries\n",
    "import numpy as np\n",
    "from matplotlib import pyplot as plt\n",
    "import pandas as pd\n",
    "from sklearn.tree import DecisionTreeClassifier\n",
    "from sklearn.model_selection import train_test_split\n",
    "from sklearn.metrics import accuracy_score\n",
    "from sklearn.preprocessing import LabelEncoder\n",
    "from sklearn.naive_bayes import GaussianNB"
   ]
  },
  {
   "cell_type": "code",
   "execution_count": 146,
   "metadata": {},
   "outputs": [],
   "source": [
    "def setLabel(score: float) -> str:\n",
    "    \"\"\" Check the score from the data and give back the label\n",
    "\n",
    "    Base on the rating score, compare with the enum \"Rating\" to set\n",
    "    the label for each record.\n",
    "\n",
    "    Arg:\n",
    "        score(float): The number from each record.\n",
    "\n",
    "    Return:\n",
    "        resultStr(str): The label base on different input.\n",
    "\n",
    "    \"\"\"\n",
    "    pass\n",
    "\n",
    "    resultStr = \"\"\n",
    "    if 0.0 <= score <= 1.0:\n",
    "        resultStr = \"Terrible\"\n",
    "    elif 1.0 < score <= 2.0:\n",
    "        resultStr = \"Poor\"\n",
    "    elif 2.0 < score <= 3.0:\n",
    "        resultStr = \"Average\"\n",
    "    elif 3.0 < score <= 4.0:\n",
    "        resultStr = \"VeryGood\"\n",
    "    elif 4.0 < score <= 5.0:\n",
    "        resultStr = \"Excellent\"\n",
    "    else:\n",
    "        resultStr = \"No rating scores\"\n",
    "    return resultStr\n"
   ]
  },
  {
   "cell_type": "code",
   "execution_count": 234,
   "metadata": {},
   "outputs": [],
   "source": [
    "def readCSV(fileName: str):\n",
    "    \"\"\" Read the .csv file and combine all data into a large dataset\n",
    "\n",
    "    Read .csv file from current folder, put all records into dataframe, and \n",
    "    return the dataset and labels.\n",
    "\n",
    "    Arg:\n",
    "        fileName(str): The string that contain the .csv file location.\n",
    "\n",
    "    Return:\n",
    "        A dataframe that contain all record from .csv file.\n",
    "        The labels for all features.\n",
    "\n",
    "    Rasies:\n",
    "        File Error: File not exist or not in the correct location.\n",
    "    \"\"\"\n",
    "    pass\n",
    "\n",
    "    try:\n",
    "        df = pd.read_csv(fileName)\n",
    "        X = df.drop(['UserID'], axis=1)\n",
    "        label = (df['Art_galleries'] +\n",
    "                  df['Dance_clubs'] + \n",
    "                  df['Juice_bars'] + \n",
    "                  df['Restaurants'] + \n",
    "                  df['Museums'] + \n",
    "                  df['Resorts'] + \n",
    "                  df['Picnic_spots'] + \n",
    "                  df['Beaches'] + \n",
    "                  df['Theaters'] + \n",
    "                  df['Religious_institutions']) / 10\n",
    "        labels = label.apply(setLabel)        \n",
    "        return X, labels\n",
    "    except:\n",
    "        print(\"Open file error\")"
   ]
  },
  {
   "cell_type": "code",
   "execution_count": 300,
   "metadata": {},
   "outputs": [
    {
     "name": "stdout",
     "output_type": "stream",
     "text": [
      "0.9387755102040817\n",
      "0.061224489795918366\n"
     ]
    }
   ],
   "source": [
    "fileName = \"tripadvisor_review.csv\"\n",
    "X, labels = readCSV(fileName)\n",
    "\n",
    "label_encoder = LabelEncoder()\n",
    "y = label_encoder.fit_transform(labels)\n",
    "\n",
    "X_train, X_test, y_train, y_test = train_test_split(X, y, test_size=0.25, random_state=42)\n",
    "\n",
    "dt_clf = DecisionTreeClassifier(criterion=\"gini\", splitter=\"best\")\n",
    "# train the data\n",
    "dt_clf.fit(X_train, y_train)\n",
    "# score\n",
    "dt_clf.score(X_test, y_test)\n",
    "# classification X_test, return labels\n",
    "clf_y_pred = dt_clf.predict(X_test)\n",
    "n = accuracy_score(y_test, clf_y_pred, normalize=False)\n",
    "# print(n)\n",
    "# print(X.shape[0])\n",
    "# print(X_test.shape[0])\n",
    "# print(n / X_test.shape[0])\n",
    "# print((n / X_test.shape[0]) * X.shape[0])\n",
    "# print(((n / X_test.shape[0]) * X.shape[0]) / X.shape[0])\n",
    "\n",
    "# clf_probs = dt_clf.predict_proba(X_test).max(axis = 1)\n",
    "# print(clf_probs)\n",
    "\n",
    "nb_model = GaussianNB()\n",
    "nb_model.fit(X_train, y_train)\n",
    "nb_y_pred = nb_model.predict(X_test)\n",
    "accuracy_score(y_test, nb_y_pred)\n",
    "nb_probs = nb_model.predict_proba(X_test).max(axis = 1)\n",
    "# print(nb_probs)\n",
    "low_confidence = nb_probs < 0.9\n",
    "# print(low_confidence)\n",
    "c = (low_confidence != True).sum()\n",
    "print(c / X_test.shape[0])\n",
    "ic = (low_confidence == True).sum()\n",
    "print(ic/ X_test.shape[0])"
   ]
  },
  {
   "cell_type": "code",
   "execution_count": null,
   "metadata": {},
   "outputs": [],
   "source": []
  },
  {
   "cell_type": "code",
   "execution_count": 301,
   "metadata": {},
   "outputs": [
    {
     "name": "stdout",
     "output_type": "stream",
     "text": [
      "97.6653\n",
      "100.0\n",
      "0.0\n",
      "95.4939\n",
      "92.0898\n",
      "7.910200000000001\n"
     ]
    }
   ],
   "source": [
    "fileName = \"tripadvisor_review.csv\"\n",
    "X, y = readCSV(fileName)\n",
    "\n",
    "clf_avg_score_result = []\n",
    "clf_prob_score_correct_result = []\n",
    "clf_prob_score_incorrect_result = []\n",
    "nb_avg_score_result = []\n",
    "nb_prob_score_correct_result = []\n",
    "nb_prob_score_incorrect_result = []\n",
    "\n",
    "for i in range(50):\n",
    "\n",
    "    X_train, X_test, y_train, y_test = train_test_split(X, y, test_size=0.25, random_state=None)\n",
    "\n",
    "    clf_model = DecisionTreeClassifier(criterion=\"gini\", splitter=\"best\")\n",
    "    clf_model.fit(X_train, y_train)\n",
    "    clf_score = clf_model.score(X_test, y_test)\n",
    "    clf_avg_score_result.append(clf_score)\n",
    "    clf_probs = clf_model.predict_proba(X_test).max(axis = 1)\n",
    "    low_confidence_clf = clf_probs < 0.9\n",
    "    clf_avg_score_result.append(clf_score)\n",
    "    clf_prob_score_correct_result.append((low_confidence_clf != True).sum() / X_test.shape[0])\n",
    "    clf_prob_score_incorrect_result.append((low_confidence_clf == True).sum() / X_test.shape[0])\n",
    "\n",
    "    # Apply GaussianNB\n",
    "    nb_model = GaussianNB()\n",
    "    nb_model.fit(X_train, y_train)\n",
    "    nb_score = nb_model.score(X_test, y_test)\n",
    "    nb_probs = nb_model.predict_proba(X_test).max(axis = 1)\n",
    "    low_confidence_nb = nb_probs < 0.9\n",
    "    nb_avg_score_result.append(nb_score)\n",
    "    nb_prob_score_correct_result.append((low_confidence_nb != True).sum() / X_test.shape[0])\n",
    "    nb_prob_score_incorrect_result.append((low_confidence_nb == True).sum() / X_test.shape[0])\n",
    "\n",
    "print(np.round(np.mean(np.array(clf_avg_score_result)), 6) * 100)\n",
    "print(np.round(np.mean(np.array(clf_prob_score_correct_result)), 6) * 100)\n",
    "print(np.round(np.mean(np.array(clf_prob_score_incorrect_result)), 6) * 100)\n",
    "print(np.round(np.mean(np.array(nb_avg_score_result)), 6) * 100)\n",
    "print(np.round(np.mean(np.array(nb_prob_score_correct_result)), 6) * 100)\n",
    "print(np.round(np.mean(np.array(nb_prob_score_incorrect_result)), 6) * 100)\n"
   ]
  }
 ],
 "metadata": {
  "interpreter": {
   "hash": "fcdafa320b1bd52415b4da26a3e91d8c55e0b68a992d8fe533e9215398eb0247"
  },
  "kernelspec": {
   "display_name": "Python 3.9.7 ('base')",
   "language": "python",
   "name": "python3"
  },
  "language_info": {
   "codemirror_mode": {
    "name": "ipython",
    "version": 3
   },
   "file_extension": ".py",
   "mimetype": "text/x-python",
   "name": "python",
   "nbconvert_exporter": "python",
   "pygments_lexer": "ipython3",
   "version": "3.9.7"
  },
  "orig_nbformat": 4
 },
 "nbformat": 4,
 "nbformat_minor": 2
}
