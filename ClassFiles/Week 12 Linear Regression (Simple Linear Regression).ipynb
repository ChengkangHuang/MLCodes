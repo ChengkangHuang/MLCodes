{
 "cells": [
  {
   "cell_type": "markdown",
   "id": "29e52687",
   "metadata": {},
   "source": [
    "### Simple Linear Regression "
   ]
  },
  {
   "cell_type": "code",
   "execution_count": 7,
   "id": "cbe6f01f",
   "metadata": {},
   "outputs": [],
   "source": [
    "import pandas as pd\n",
    "import numpy as np\n",
    "from matplotlib import pyplot as plt\n",
    "\n",
    "# from sklearn.model_selection import train_test_split  # not using for this example\n",
    "\n",
    "from sklearn.linear_model import LinearRegression"
   ]
  },
  {
   "cell_type": "code",
   "execution_count": 8,
   "id": "82f453c5",
   "metadata": {},
   "outputs": [
    {
     "data": {
      "text/html": [
       "<div>\n",
       "<style scoped>\n",
       "    .dataframe tbody tr th:only-of-type {\n",
       "        vertical-align: middle;\n",
       "    }\n",
       "\n",
       "    .dataframe tbody tr th {\n",
       "        vertical-align: top;\n",
       "    }\n",
       "\n",
       "    .dataframe thead th {\n",
       "        text-align: right;\n",
       "    }\n",
       "</style>\n",
       "<table border=\"1\" class=\"dataframe\">\n",
       "  <thead>\n",
       "    <tr style=\"text-align: right;\">\n",
       "      <th></th>\n",
       "      <th>area</th>\n",
       "      <th>price</th>\n",
       "    </tr>\n",
       "  </thead>\n",
       "  <tbody>\n",
       "    <tr>\n",
       "      <th>0</th>\n",
       "      <td>2400</td>\n",
       "      <td>500000</td>\n",
       "    </tr>\n",
       "    <tr>\n",
       "      <th>1</th>\n",
       "      <td>2000</td>\n",
       "      <td>450000</td>\n",
       "    </tr>\n",
       "    <tr>\n",
       "      <th>2</th>\n",
       "      <td>2600</td>\n",
       "      <td>550000</td>\n",
       "    </tr>\n",
       "    <tr>\n",
       "      <th>3</th>\n",
       "      <td>3000</td>\n",
       "      <td>565000</td>\n",
       "    </tr>\n",
       "    <tr>\n",
       "      <th>4</th>\n",
       "      <td>3200</td>\n",
       "      <td>610000</td>\n",
       "    </tr>\n",
       "    <tr>\n",
       "      <th>5</th>\n",
       "      <td>3600</td>\n",
       "      <td>680000</td>\n",
       "    </tr>\n",
       "    <tr>\n",
       "      <th>6</th>\n",
       "      <td>4000</td>\n",
       "      <td>725000</td>\n",
       "    </tr>\n",
       "    <tr>\n",
       "      <th>7</th>\n",
       "      <td>5000</td>\n",
       "      <td>800000</td>\n",
       "    </tr>\n",
       "    <tr>\n",
       "      <th>8</th>\n",
       "      <td>5500</td>\n",
       "      <td>850000</td>\n",
       "    </tr>\n",
       "    <tr>\n",
       "      <th>9</th>\n",
       "      <td>6000</td>\n",
       "      <td>900000</td>\n",
       "    </tr>\n",
       "  </tbody>\n",
       "</table>\n",
       "</div>"
      ],
      "text/plain": [
       "   area   price\n",
       "0  2400  500000\n",
       "1  2000  450000\n",
       "2  2600  550000\n",
       "3  3000  565000\n",
       "4  3200  610000\n",
       "5  3600  680000\n",
       "6  4000  725000\n",
       "7  5000  800000\n",
       "8  5500  850000\n",
       "9  6000  900000"
      ]
     },
     "execution_count": 8,
     "metadata": {},
     "output_type": "execute_result"
    }
   ],
   "source": [
    "h_prices=pd.read_csv('house_prices.csv')\n",
    "h_prices"
   ]
  },
  {
   "cell_type": "code",
   "execution_count": 9,
   "id": "2074ebb7",
   "metadata": {},
   "outputs": [
    {
     "data": {
      "text/plain": [
       "Text(0, 0.5, 'price')"
      ]
     },
     "execution_count": 9,
     "metadata": {},
     "output_type": "execute_result"
    },
    {
     "data": {
      "image/png": "[encoded data removed]",
      "text/plain": [
       "<Figure size 432x288 with 1 Axes>"
      ]
     },
     "metadata": {
      "needs_background": "light"
     },
     "output_type": "display_data"
    }
   ],
   "source": [
    "plt.scatter(h_prices['area'],h_prices['price'])\n",
    "plt.xlabel('area')\n",
    "plt.ylabel('price')"
   ]
  },
  {
   "cell_type": "code",
   "execution_count": 10,
   "id": "037bddd8",
   "metadata": {},
   "outputs": [],
   "source": [
    "X=h_prices['area']    # independent variable\n",
    "y=h_prices['price']    # dependent variable\n",
    "\n",
    "# the graph will create a line \n",
    "# y is the dependent variable \n",
    "\n",
    "# x is the independent variable\n",
    "\n",
    "# m is the coeff., this will be calculated during training\n",
    "# b is the intercept, this will be calculated during training \n",
    "\n",
    "# y = mx + b\n"
   ]
  },
  {
   "cell_type": "code",
   "execution_count": 11,
   "id": "e789ead6",
   "metadata": {},
   "outputs": [
    {
     "data": {
      "text/plain": [
       "LinearRegression()"
      ]
     },
     "execution_count": 11,
     "metadata": {},
     "output_type": "execute_result"
    }
   ],
   "source": [
    "lin_reg = LinearRegression() # https://scikit-learn.org/stable/modules/generated/sklearn.linear_model.LinearRegression.html\n",
    "lin_reg"
   ]
  },
  {
   "cell_type": "code",
   "execution_count": 12,
   "id": "e658c334",
   "metadata": {},
   "outputs": [],
   "source": [
    "# lin_reg.fit(X,y)  \n",
    "\n",
    "# this will result into an error\n",
    "# Expected 2D array, got 1D array instead\n",
    "# ERROR: Reshape your data either using array.reshape(-1, 1) \n",
    "# if your data has a single feature or array.\n",
    "# reshape(1, -1) if it contains a single sample."
   ]
  },
  {
   "cell_type": "code",
   "execution_count": 13,
   "id": "f4c8bbc3",
   "metadata": {},
   "outputs": [
    {
     "data": {
      "text/plain": [
       "LinearRegression()"
      ]
     },
     "execution_count": 13,
     "metadata": {},
     "output_type": "execute_result"
    }
   ],
   "source": [
    "lin_reg.fit(X.values.reshape(-1,1),y) "
   ]
  },
  {
   "cell_type": "code",
   "execution_count": 14,
   "id": "d3bd5381",
   "metadata": {},
   "outputs": [
    {
     "data": {
      "text/plain": [
       "pandas.core.series.Series"
      ]
     },
     "execution_count": 14,
     "metadata": {},
     "output_type": "execute_result"
    }
   ],
   "source": [
    "type(X)"
   ]
  },
  {
   "cell_type": "code",
   "execution_count": 15,
   "id": "36d76a75",
   "metadata": {},
   "outputs": [
    {
     "data": {
      "text/plain": [
       "numpy.ndarray"
      ]
     },
     "execution_count": 15,
     "metadata": {},
     "output_type": "execute_result"
    }
   ],
   "source": [
    "type(X.values)"
   ]
  },
  {
   "cell_type": "code",
   "execution_count": 16,
   "id": "0fdea9d8",
   "metadata": {},
   "outputs": [
    {
     "data": {
      "text/plain": [
       "array([[1],\n",
       "       [2],\n",
       "       [3]])"
      ]
     },
     "execution_count": 16,
     "metadata": {},
     "output_type": "execute_result"
    }
   ],
   "source": [
    "np.array([1,2,3]).reshape(-1,1)"
   ]
  },
  {
   "cell_type": "code",
   "execution_count": 17,
   "id": "4c5e35b3",
   "metadata": {},
   "outputs": [
    {
     "data": {
      "text/plain": [
       "[<matplotlib.lines.Line2D at 0x222ecbc12b0>]"
      ]
     },
     "execution_count": 17,
     "metadata": {},
     "output_type": "execute_result"
    },
    {
     "data": {
      "image/png": "[encoded data removed]",
      "text/plain": [
       "<Figure size 432x288 with 1 Axes>"
      ]
     },
     "metadata": {
      "needs_background": "light"
     },
     "output_type": "display_data"
    }
   ],
   "source": [
    "plt.scatter(h_prices['area'],h_prices['price'])\n",
    "plt.xlabel('area')\n",
    "plt.ylabel('price')\n",
    "\n",
    "plt.plot(h_prices['area'],lin_reg.predict(X.values.reshape(-1,1)))"
   ]
  },
  {
   "cell_type": "code",
   "execution_count": 18,
   "id": "c1ac6dec",
   "metadata": {},
   "outputs": [
    {
     "data": {
      "text/plain": [
       "array([515310.84852443, 470893.05860697, 537519.74348317, 581937.53340063,\n",
       "       604146.42835936, 648564.21827682, 692982.00819429, 804026.48298795,\n",
       "       859548.72038478, 915070.9577816 ])"
      ]
     },
     "execution_count": 18,
     "metadata": {},
     "output_type": "execute_result"
    }
   ],
   "source": [
    "lin_reg.predict(X.values.reshape(-1,1))"
   ]
  },
  {
   "cell_type": "code",
   "execution_count": 19,
   "id": "c627ee08",
   "metadata": {},
   "outputs": [
    {
     "data": {
      "text/plain": [
       "array([111.04447479])"
      ]
     },
     "execution_count": 19,
     "metadata": {},
     "output_type": "execute_result"
    }
   ],
   "source": [
    "lin_reg.coef_   # m = slope (how steep is the line) in the equation of the line"
   ]
  },
  {
   "cell_type": "code",
   "execution_count": 20,
   "id": "204b97f8",
   "metadata": {},
   "outputs": [
    {
     "data": {
      "text/plain": [
       "248804.10901965434"
      ]
     },
     "execution_count": 20,
     "metadata": {},
     "output_type": "execute_result"
    }
   ],
   "source": [
    "lin_reg.intercept_   # b = y_intercept in the equation of the line"
   ]
  },
  {
   "cell_type": "code",
   "execution_count": 21,
   "id": "241fc5ae",
   "metadata": {},
   "outputs": [
    {
     "data": {
      "text/plain": [
       "1"
      ]
     },
     "execution_count": 21,
     "metadata": {},
     "output_type": "execute_result"
    }
   ],
   "source": [
    "lin_reg.n_features_in_   # Number of features seen during fit"
   ]
  },
  {
   "cell_type": "code",
   "execution_count": 22,
   "id": "05585042",
   "metadata": {},
   "outputs": [
    {
     "data": {
      "text/plain": [
       "-15310.84852443001"
      ]
     },
     "execution_count": 22,
     "metadata": {},
     "output_type": "execute_result"
    }
   ],
   "source": [
    "# error = actual - predicted\n",
    "500000 - 515310.84852443"
   ]
  },
  {
   "cell_type": "code",
   "execution_count": 23,
   "id": "f66af679",
   "metadata": {},
   "outputs": [
    {
     "data": {
      "text/plain": [
       "7626710.058542045"
      ]
     },
     "execution_count": 23,
     "metadata": {},
     "output_type": "execute_result"
    }
   ],
   "source": [
    "# y = mx b      # https://www.mathsisfun.com/equation_of_line.html\n",
    "y = (111.04447479)*66441 + 248804.10901965434\n",
    "y"
   ]
  },
  {
   "cell_type": "code",
   "execution_count": 24,
   "id": "20d42b7f",
   "metadata": {},
   "outputs": [
    {
     "data": {
      "text/plain": [
       "504206.40103665437"
      ]
     },
     "execution_count": 24,
     "metadata": {},
     "output_type": "execute_result"
    }
   ],
   "source": [
    "y = (111.04447479)*2300 + 248804.10901965434\n",
    "y"
   ]
  },
  {
   "cell_type": "code",
   "execution_count": 25,
   "id": "95fae76d",
   "metadata": {},
   "outputs": [],
   "source": [
    "# task calculate the value of x1 from predicted y wuing the line equation. "
   ]
  },
  {
   "cell_type": "code",
   "execution_count": 26,
   "id": "d863a1bd",
   "metadata": {},
   "outputs": [
    {
     "data": {
      "text/plain": [
       "2300.0000000000005"
      ]
     },
     "execution_count": 26,
     "metadata": {},
     "output_type": "execute_result"
    }
   ],
   "source": [
    "# y =  mx b\n",
    "# x = (y-b)/m\n",
    "\n",
    "x = (504206.40103665437 - 248804.10901965434)/111.04447479\n",
    "x"
   ]
  },
  {
   "cell_type": "markdown",
   "id": "0751bb9d",
   "metadata": {},
   "source": [
    "### Example from SKlearn\n",
    "https://scikit-learn.org/stable/modules/generated/sklearn.linear_model.LinearRegression.html"
   ]
  },
  {
   "cell_type": "code",
   "execution_count": 27,
   "id": "ab06f4c3",
   "metadata": {},
   "outputs": [
    {
     "name": "stdout",
     "output_type": "stream",
     "text": [
      "X =  [[1 1]\n",
      " [1 2]\n",
      " [2 2]\n",
      " [2 3]]\n",
      "y =  [ 6  8  9 11]\n",
      "Score= 1.0\n",
      "Coeff. m = [1. 2.]\n",
      "Intercept = b = 3.000000000000001\n",
      "Prediction for new example [3, 5] = [16.]\n",
      "Prediction for new example [1, 1] = [6.]\n"
     ]
    }
   ],
   "source": [
    "import numpy as np\n",
    "from sklearn.linear_model import LinearRegression\n",
    "\n",
    "X = np.array([[1, 1], [1, 2], [2, 2], [2, 3]])\n",
    "print('X = ',X)\n",
    "\n",
    "# y = 1 * x_0 + 2 * x_1 + 3\n",
    "\n",
    "y = np.dot(X, np.array([1, 2])) + 3 \n",
    "\n",
    "# compute the dot product of the inputs\n",
    "# 1*1+1*2, 1*1+2*2, 2*1+2*2, 2*1+3*2\n",
    "\n",
    "print('y = ',y)\n",
    "\n",
    "reg = LinearRegression().fit(X, y)\n",
    "\n",
    "print('Score=',reg.score(X, y))\n",
    "\n",
    "print('Coeff. m =',reg.coef_)\n",
    "\n",
    "print('Intercept = b =',reg.intercept_)\n",
    "\n",
    "print('Prediction for new example [3, 5] =',reg.predict(np.array([[3, 5]])))\n",
    "\n",
    "print('Prediction for new example [1, 1] =',reg.predict(np.array([[1, 1]])))"
   ]
  }
 ],
 "metadata": {
  "kernelspec": {
   "display_name": "Python 3",
   "language": "python",
   "name": "python3"
  },
  "language_info": {
   "codemirror_mode": {
    "name": "ipython",
    "version": 3
   },
   "file_extension": ".py",
   "mimetype": "text/x-python",
   "name": "python",
   "nbconvert_exporter": "python",
   "pygments_lexer": "ipython3",
   "version": "3.9.7"
  }
 },
 "nbformat": 4,
 "nbformat_minor": 5
}
