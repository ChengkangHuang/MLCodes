{
 "cells": [
  {
   "cell_type": "code",
   "execution_count": 1,
   "metadata": {},
   "outputs": [],
   "source": [
    "import pandas as pd\n",
    "from matplotlib import pyplot as plt\n",
    "from sklearn.model_selection import train_test_split\n",
    "from sklearn.neural_network import MLPClassifier\n",
    "import numpy as np"
   ]
  },
  {
   "cell_type": "code",
   "execution_count": 2,
   "metadata": {},
   "outputs": [
    {
     "data": {
      "text/html": [
       "<div>\n",
       "<style scoped>\n",
       "    .dataframe tbody tr th:only-of-type {\n",
       "        vertical-align: middle;\n",
       "    }\n",
       "\n",
       "    .dataframe tbody tr th {\n",
       "        vertical-align: top;\n",
       "    }\n",
       "\n",
       "    .dataframe thead th {\n",
       "        text-align: right;\n",
       "    }\n",
       "</style>\n",
       "<table border=\"1\" class=\"dataframe\">\n",
       "  <thead>\n",
       "    <tr style=\"text-align: right;\">\n",
       "      <th></th>\n",
       "      <th>label</th>\n",
       "      <th>1x1</th>\n",
       "      <th>1x2</th>\n",
       "      <th>1x3</th>\n",
       "      <th>1x4</th>\n",
       "      <th>1x5</th>\n",
       "      <th>1x6</th>\n",
       "      <th>1x7</th>\n",
       "      <th>1x8</th>\n",
       "      <th>1x9</th>\n",
       "      <th>...</th>\n",
       "      <th>28x19</th>\n",
       "      <th>28x20</th>\n",
       "      <th>28x21</th>\n",
       "      <th>28x22</th>\n",
       "      <th>28x23</th>\n",
       "      <th>28x24</th>\n",
       "      <th>28x25</th>\n",
       "      <th>28x26</th>\n",
       "      <th>28x27</th>\n",
       "      <th>28x28</th>\n",
       "    </tr>\n",
       "  </thead>\n",
       "  <tbody>\n",
       "    <tr>\n",
       "      <th>0</th>\n",
       "      <td>7</td>\n",
       "      <td>0</td>\n",
       "      <td>0</td>\n",
       "      <td>0</td>\n",
       "      <td>0</td>\n",
       "      <td>0</td>\n",
       "      <td>0</td>\n",
       "      <td>0</td>\n",
       "      <td>0</td>\n",
       "      <td>0</td>\n",
       "      <td>...</td>\n",
       "      <td>0</td>\n",
       "      <td>0</td>\n",
       "      <td>0</td>\n",
       "      <td>0</td>\n",
       "      <td>0</td>\n",
       "      <td>0</td>\n",
       "      <td>0</td>\n",
       "      <td>0</td>\n",
       "      <td>0</td>\n",
       "      <td>0</td>\n",
       "    </tr>\n",
       "    <tr>\n",
       "      <th>1</th>\n",
       "      <td>2</td>\n",
       "      <td>0</td>\n",
       "      <td>0</td>\n",
       "      <td>0</td>\n",
       "      <td>0</td>\n",
       "      <td>0</td>\n",
       "      <td>0</td>\n",
       "      <td>0</td>\n",
       "      <td>0</td>\n",
       "      <td>0</td>\n",
       "      <td>...</td>\n",
       "      <td>0</td>\n",
       "      <td>0</td>\n",
       "      <td>0</td>\n",
       "      <td>0</td>\n",
       "      <td>0</td>\n",
       "      <td>0</td>\n",
       "      <td>0</td>\n",
       "      <td>0</td>\n",
       "      <td>0</td>\n",
       "      <td>0</td>\n",
       "    </tr>\n",
       "    <tr>\n",
       "      <th>2</th>\n",
       "      <td>1</td>\n",
       "      <td>0</td>\n",
       "      <td>0</td>\n",
       "      <td>0</td>\n",
       "      <td>0</td>\n",
       "      <td>0</td>\n",
       "      <td>0</td>\n",
       "      <td>0</td>\n",
       "      <td>0</td>\n",
       "      <td>0</td>\n",
       "      <td>...</td>\n",
       "      <td>0</td>\n",
       "      <td>0</td>\n",
       "      <td>0</td>\n",
       "      <td>0</td>\n",
       "      <td>0</td>\n",
       "      <td>0</td>\n",
       "      <td>0</td>\n",
       "      <td>0</td>\n",
       "      <td>0</td>\n",
       "      <td>0</td>\n",
       "    </tr>\n",
       "    <tr>\n",
       "      <th>3</th>\n",
       "      <td>0</td>\n",
       "      <td>0</td>\n",
       "      <td>0</td>\n",
       "      <td>0</td>\n",
       "      <td>0</td>\n",
       "      <td>0</td>\n",
       "      <td>0</td>\n",
       "      <td>0</td>\n",
       "      <td>0</td>\n",
       "      <td>0</td>\n",
       "      <td>...</td>\n",
       "      <td>0</td>\n",
       "      <td>0</td>\n",
       "      <td>0</td>\n",
       "      <td>0</td>\n",
       "      <td>0</td>\n",
       "      <td>0</td>\n",
       "      <td>0</td>\n",
       "      <td>0</td>\n",
       "      <td>0</td>\n",
       "      <td>0</td>\n",
       "    </tr>\n",
       "    <tr>\n",
       "      <th>4</th>\n",
       "      <td>4</td>\n",
       "      <td>0</td>\n",
       "      <td>0</td>\n",
       "      <td>0</td>\n",
       "      <td>0</td>\n",
       "      <td>0</td>\n",
       "      <td>0</td>\n",
       "      <td>0</td>\n",
       "      <td>0</td>\n",
       "      <td>0</td>\n",
       "      <td>...</td>\n",
       "      <td>0</td>\n",
       "      <td>0</td>\n",
       "      <td>0</td>\n",
       "      <td>0</td>\n",
       "      <td>0</td>\n",
       "      <td>0</td>\n",
       "      <td>0</td>\n",
       "      <td>0</td>\n",
       "      <td>0</td>\n",
       "      <td>0</td>\n",
       "    </tr>\n",
       "    <tr>\n",
       "      <th>...</th>\n",
       "      <td>...</td>\n",
       "      <td>...</td>\n",
       "      <td>...</td>\n",
       "      <td>...</td>\n",
       "      <td>...</td>\n",
       "      <td>...</td>\n",
       "      <td>...</td>\n",
       "      <td>...</td>\n",
       "      <td>...</td>\n",
       "      <td>...</td>\n",
       "      <td>...</td>\n",
       "      <td>...</td>\n",
       "      <td>...</td>\n",
       "      <td>...</td>\n",
       "      <td>...</td>\n",
       "      <td>...</td>\n",
       "      <td>...</td>\n",
       "      <td>...</td>\n",
       "      <td>...</td>\n",
       "      <td>...</td>\n",
       "      <td>...</td>\n",
       "    </tr>\n",
       "    <tr>\n",
       "      <th>9995</th>\n",
       "      <td>2</td>\n",
       "      <td>0</td>\n",
       "      <td>0</td>\n",
       "      <td>0</td>\n",
       "      <td>0</td>\n",
       "      <td>0</td>\n",
       "      <td>0</td>\n",
       "      <td>0</td>\n",
       "      <td>0</td>\n",
       "      <td>0</td>\n",
       "      <td>...</td>\n",
       "      <td>0</td>\n",
       "      <td>0</td>\n",
       "      <td>0</td>\n",
       "      <td>0</td>\n",
       "      <td>0</td>\n",
       "      <td>0</td>\n",
       "      <td>0</td>\n",
       "      <td>0</td>\n",
       "      <td>0</td>\n",
       "      <td>0</td>\n",
       "    </tr>\n",
       "    <tr>\n",
       "      <th>9996</th>\n",
       "      <td>3</td>\n",
       "      <td>0</td>\n",
       "      <td>0</td>\n",
       "      <td>0</td>\n",
       "      <td>0</td>\n",
       "      <td>0</td>\n",
       "      <td>0</td>\n",
       "      <td>0</td>\n",
       "      <td>0</td>\n",
       "      <td>0</td>\n",
       "      <td>...</td>\n",
       "      <td>0</td>\n",
       "      <td>0</td>\n",
       "      <td>0</td>\n",
       "      <td>0</td>\n",
       "      <td>0</td>\n",
       "      <td>0</td>\n",
       "      <td>0</td>\n",
       "      <td>0</td>\n",
       "      <td>0</td>\n",
       "      <td>0</td>\n",
       "    </tr>\n",
       "    <tr>\n",
       "      <th>9997</th>\n",
       "      <td>4</td>\n",
       "      <td>0</td>\n",
       "      <td>0</td>\n",
       "      <td>0</td>\n",
       "      <td>0</td>\n",
       "      <td>0</td>\n",
       "      <td>0</td>\n",
       "      <td>0</td>\n",
       "      <td>0</td>\n",
       "      <td>0</td>\n",
       "      <td>...</td>\n",
       "      <td>0</td>\n",
       "      <td>0</td>\n",
       "      <td>0</td>\n",
       "      <td>0</td>\n",
       "      <td>0</td>\n",
       "      <td>0</td>\n",
       "      <td>0</td>\n",
       "      <td>0</td>\n",
       "      <td>0</td>\n",
       "      <td>0</td>\n",
       "    </tr>\n",
       "    <tr>\n",
       "      <th>9998</th>\n",
       "      <td>5</td>\n",
       "      <td>0</td>\n",
       "      <td>0</td>\n",
       "      <td>0</td>\n",
       "      <td>0</td>\n",
       "      <td>0</td>\n",
       "      <td>0</td>\n",
       "      <td>0</td>\n",
       "      <td>0</td>\n",
       "      <td>0</td>\n",
       "      <td>...</td>\n",
       "      <td>0</td>\n",
       "      <td>0</td>\n",
       "      <td>0</td>\n",
       "      <td>0</td>\n",
       "      <td>0</td>\n",
       "      <td>0</td>\n",
       "      <td>0</td>\n",
       "      <td>0</td>\n",
       "      <td>0</td>\n",
       "      <td>0</td>\n",
       "    </tr>\n",
       "    <tr>\n",
       "      <th>9999</th>\n",
       "      <td>6</td>\n",
       "      <td>0</td>\n",
       "      <td>0</td>\n",
       "      <td>0</td>\n",
       "      <td>0</td>\n",
       "      <td>0</td>\n",
       "      <td>0</td>\n",
       "      <td>0</td>\n",
       "      <td>0</td>\n",
       "      <td>0</td>\n",
       "      <td>...</td>\n",
       "      <td>0</td>\n",
       "      <td>0</td>\n",
       "      <td>0</td>\n",
       "      <td>0</td>\n",
       "      <td>0</td>\n",
       "      <td>0</td>\n",
       "      <td>0</td>\n",
       "      <td>0</td>\n",
       "      <td>0</td>\n",
       "      <td>0</td>\n",
       "    </tr>\n",
       "  </tbody>\n",
       "</table>\n",
       "<p>10000 rows × 785 columns</p>\n",
       "</div>"
      ],
      "text/plain": [
       "      label  1x1  1x2  1x3  1x4  1x5  1x6  1x7  1x8  1x9  ...  28x19  28x20  \\\n",
       "0         7    0    0    0    0    0    0    0    0    0  ...      0      0   \n",
       "1         2    0    0    0    0    0    0    0    0    0  ...      0      0   \n",
       "2         1    0    0    0    0    0    0    0    0    0  ...      0      0   \n",
       "3         0    0    0    0    0    0    0    0    0    0  ...      0      0   \n",
       "4         4    0    0    0    0    0    0    0    0    0  ...      0      0   \n",
       "...     ...  ...  ...  ...  ...  ...  ...  ...  ...  ...  ...    ...    ...   \n",
       "9995      2    0    0    0    0    0    0    0    0    0  ...      0      0   \n",
       "9996      3    0    0    0    0    0    0    0    0    0  ...      0      0   \n",
       "9997      4    0    0    0    0    0    0    0    0    0  ...      0      0   \n",
       "9998      5    0    0    0    0    0    0    0    0    0  ...      0      0   \n",
       "9999      6    0    0    0    0    0    0    0    0    0  ...      0      0   \n",
       "\n",
       "      28x21  28x22  28x23  28x24  28x25  28x26  28x27  28x28  \n",
       "0         0      0      0      0      0      0      0      0  \n",
       "1         0      0      0      0      0      0      0      0  \n",
       "2         0      0      0      0      0      0      0      0  \n",
       "3         0      0      0      0      0      0      0      0  \n",
       "4         0      0      0      0      0      0      0      0  \n",
       "...     ...    ...    ...    ...    ...    ...    ...    ...  \n",
       "9995      0      0      0      0      0      0      0      0  \n",
       "9996      0      0      0      0      0      0      0      0  \n",
       "9997      0      0      0      0      0      0      0      0  \n",
       "9998      0      0      0      0      0      0      0      0  \n",
       "9999      0      0      0      0      0      0      0      0  \n",
       "\n",
       "[10000 rows x 785 columns]"
      ]
     },
     "execution_count": 2,
     "metadata": {},
     "output_type": "execute_result"
    }
   ],
   "source": [
    "df = pd.read_csv('mnist_test.csv')\n",
    "df"
   ]
  },
  {
   "cell_type": "code",
   "execution_count": 3,
   "metadata": {},
   "outputs": [
    {
     "data": {
      "text/plain": [
       "(10000, 785)"
      ]
     },
     "execution_count": 3,
     "metadata": {},
     "output_type": "execute_result"
    }
   ],
   "source": [
    "df.shape"
   ]
  },
  {
   "cell_type": "code",
   "execution_count": 4,
   "metadata": {},
   "outputs": [],
   "source": [
    "X = df.drop(['label'], axis=1)\n",
    "y = df['label']"
   ]
  },
  {
   "cell_type": "code",
   "execution_count": 5,
   "metadata": {},
   "outputs": [],
   "source": [
    "X_train, X_test, y_train, y_test = train_test_split(X, y, test_size=0.2, random_state=20)"
   ]
  },
  {
   "cell_type": "code",
   "execution_count": 6,
   "metadata": {},
   "outputs": [
    {
     "name": "stdout",
     "output_type": "stream",
     "text": [
      "      1x1  1x2  1x3  1x4  1x5  1x6  1x7  1x8  1x9  1x10  ...  28x19  28x20  \\\n",
      "4661    0    0    0    0    0    0    0    0    0     0  ...      0      0   \n",
      "7168    0    0    0    0    0    0    0    0    0     0  ...      0      0   \n",
      "1031    0    0    0    0    0    0    0    0    0     0  ...      0      0   \n",
      "6746    0    0    0    0    0    0    0    0    0     0  ...      0      0   \n",
      "9228    0    0    0    0    0    0    0    0    0     0  ...      0      0   \n",
      "...   ...  ...  ...  ...  ...  ...  ...  ...  ...   ...  ...    ...    ...   \n",
      "3915    0    0    0    0    0    0    0    0    0     0  ...      0      0   \n",
      "9620    0    0    0    0    0    0    0    0    0     0  ...      0      0   \n",
      "7068    0    0    0    0    0    0    0    0    0     0  ...      0      0   \n",
      "7391    0    0    0    0    0    0    0    0    0     0  ...      0      0   \n",
      "4367    0    0    0    0    0    0    0    0    0     0  ...      0      0   \n",
      "\n",
      "      28x21  28x22  28x23  28x24  28x25  28x26  28x27  28x28  \n",
      "4661      0      0      0      0      0      0      0      0  \n",
      "7168      0      0      0      0      0      0      0      0  \n",
      "1031      0      0      0      0      0      0      0      0  \n",
      "6746      0      0      0      0      0      0      0      0  \n",
      "9228      0      0      0      0      0      0      0      0  \n",
      "...     ...    ...    ...    ...    ...    ...    ...    ...  \n",
      "3915      0      0      0      0      0      0      0      0  \n",
      "9620      0      0      0      0      0      0      0      0  \n",
      "7068      0      0      0      0      0      0      0      0  \n",
      "7391      0      0      0      0      0      0      0      0  \n",
      "4367      0      0      0      0      0      0      0      0  \n",
      "\n",
      "[8000 rows x 784 columns]\n",
      "      1x1  1x2  1x3  1x4  1x5  1x6  1x7  1x8  1x9  1x10  ...  28x19  28x20  \\\n",
      "9957    0    0    0    0    0    0    0    0    0     0  ...      0      0   \n",
      "1687    0    0    0    0    0    0    0    0    0     0  ...      0      0   \n",
      "2116    0    0    0    0    0    0    0    0    0     0  ...      0      0   \n",
      "231     0    0    0    0    0    0    0    0    0     0  ...      0      0   \n",
      "2780    0    0    0    0    0    0    0    0    0     0  ...      0      0   \n",
      "...   ...  ...  ...  ...  ...  ...  ...  ...  ...   ...  ...    ...    ...   \n",
      "7176    0    0    0    0    0    0    0    0    0     0  ...      0      0   \n",
      "5050    0    0    0    0    0    0    0    0    0     0  ...      0      0   \n",
      "7910    0    0    0    0    0    0    0    0    0     0  ...      0      0   \n",
      "7023    0    0    0    0    0    0    0    0    0     0  ...      0      0   \n",
      "2054    0    0    0    0    0    0    0    0    0     0  ...      0      0   \n",
      "\n",
      "      28x21  28x22  28x23  28x24  28x25  28x26  28x27  28x28  \n",
      "9957      0      0      0      0      0      0      0      0  \n",
      "1687      0      0      0      0      0      0      0      0  \n",
      "2116      0      0      0      0      0      0      0      0  \n",
      "231       0      0      0      0      0      0      0      0  \n",
      "2780      0      0      0      0      0      0      0      0  \n",
      "...     ...    ...    ...    ...    ...    ...    ...    ...  \n",
      "7176      0      0      0      0      0      0      0      0  \n",
      "5050      0      0      0      0      0      0      0      0  \n",
      "7910      0      0      0      0      0      0      0      0  \n",
      "7023      0      0      0      0      0      0      0      0  \n",
      "2054      0      0      0      0      0      0      0      0  \n",
      "\n",
      "[2000 rows x 784 columns]\n"
     ]
    }
   ],
   "source": [
    "print(X_train)\n",
    "print(X_test)"
   ]
  },
  {
   "cell_type": "code",
   "execution_count": 7,
   "metadata": {},
   "outputs": [
    {
     "name": "stdout",
     "output_type": "stream",
     "text": [
      "4661    4\n",
      "7168    0\n",
      "1031    2\n",
      "6746    5\n",
      "9228    5\n",
      "       ..\n",
      "3915    4\n",
      "9620    9\n",
      "7068    6\n",
      "7391    4\n",
      "4367    2\n",
      "Name: label, Length: 8000, dtype: int64\n"
     ]
    }
   ],
   "source": [
    "print(y_train)"
   ]
  },
  {
   "cell_type": "code",
   "execution_count": 8,
   "metadata": {},
   "outputs": [
    {
     "name": "stdout",
     "output_type": "stream",
     "text": [
      "9957    7\n",
      "1687    8\n",
      "2116    6\n",
      "231     3\n",
      "2780    2\n",
      "       ..\n",
      "7176    1\n",
      "5050    9\n",
      "7910    4\n",
      "7023    1\n",
      "2054    9\n",
      "Name: label, Length: 2000, dtype: int64\n"
     ]
    }
   ],
   "source": [
    "print(y_test)"
   ]
  },
  {
   "cell_type": "code",
   "execution_count": 9,
   "metadata": {},
   "outputs": [],
   "source": [
    "# ann_clf = MLPClassifier(hidden_layer_sizes=(100, 50), activation='logistic', max_iter=100, verbose=True)\n",
    "# ann_clf = MLPClassifier(hidden_layer_sizes=(100, 50), activation='logistic', verbose=True)\n",
    "ann_clf = MLPClassifier(hidden_layer_sizes=(100, 50), activation='logistic', learning_rate_init=0.01, verbose=True)"
   ]
  },
  {
   "cell_type": "code",
   "execution_count": 10,
   "metadata": {},
   "outputs": [
    {
     "name": "stdout",
     "output_type": "stream",
     "text": [
      "Iteration 1, loss = 1.56335793\n",
      "Iteration 2, loss = 0.82584777\n",
      "Iteration 3, loss = 0.69031731\n",
      "Iteration 4, loss = 0.66099380\n",
      "Iteration 5, loss = 0.61688123\n",
      "Iteration 6, loss = 0.63154899\n",
      "Iteration 7, loss = 0.60609434\n",
      "Iteration 8, loss = 0.62597240\n",
      "Iteration 9, loss = 0.61362572\n",
      "Iteration 10, loss = 0.63019550\n",
      "Iteration 11, loss = 0.62379840\n",
      "Iteration 12, loss = 0.58705861\n",
      "Iteration 13, loss = 0.60239672\n",
      "Iteration 14, loss = 0.59323074\n",
      "Iteration 15, loss = 0.59346350\n",
      "Iteration 16, loss = 0.57537376\n",
      "Iteration 17, loss = 0.61233595\n",
      "Iteration 18, loss = 0.59754377\n",
      "Iteration 19, loss = 0.54023421\n",
      "Iteration 20, loss = 0.56851908\n",
      "Iteration 21, loss = 0.57192186\n",
      "Iteration 22, loss = 0.62017276\n",
      "Iteration 23, loss = 0.62217813\n",
      "Iteration 24, loss = 0.60785362\n",
      "Iteration 25, loss = 0.57911136\n",
      "Iteration 26, loss = 0.54465016\n",
      "Iteration 27, loss = 0.52477707\n",
      "Iteration 28, loss = 0.50227755\n",
      "Iteration 29, loss = 0.55586445\n",
      "Iteration 30, loss = 0.55462580\n",
      "Iteration 31, loss = 0.51918965\n",
      "Iteration 32, loss = 0.53066648\n",
      "Iteration 33, loss = 0.51781806\n",
      "Iteration 34, loss = 0.50901275\n",
      "Iteration 35, loss = 0.49542785\n",
      "Iteration 36, loss = 0.51405985\n",
      "Iteration 37, loss = 0.49449665\n",
      "Iteration 38, loss = 0.48586212\n",
      "Iteration 39, loss = 0.49113127\n",
      "Iteration 40, loss = 0.47640146\n",
      "Iteration 41, loss = 0.47115995\n",
      "Iteration 42, loss = 0.47735123\n",
      "Iteration 43, loss = 0.47137975\n",
      "Iteration 44, loss = 0.49885975\n",
      "Iteration 45, loss = 0.53571779\n",
      "Iteration 46, loss = 0.52735668\n",
      "Iteration 47, loss = 0.48944909\n",
      "Iteration 48, loss = 0.48199447\n",
      "Iteration 49, loss = 0.48290150\n",
      "Iteration 50, loss = 0.48671933\n",
      "Iteration 51, loss = 0.46540128\n",
      "Iteration 52, loss = 0.49886427\n",
      "Iteration 53, loss = 0.49493747\n",
      "Iteration 54, loss = 0.51237301\n",
      "Iteration 55, loss = 0.53217507\n",
      "Iteration 56, loss = 0.52184646\n",
      "Iteration 57, loss = 0.52515333\n",
      "Iteration 58, loss = 0.50874892\n",
      "Iteration 59, loss = 0.49955563\n",
      "Iteration 60, loss = 0.47780405\n",
      "Iteration 61, loss = 0.47614279\n",
      "Iteration 62, loss = 0.51821962\n",
      "Training loss did not improve more than tol=0.000100 for 10 consecutive epochs. Stopping.\n"
     ]
    },
    {
     "data": {
      "text/plain": [
       "MLPClassifier(activation='logistic', hidden_layer_sizes=(100, 50),\n",
       "              learning_rate_init=0.01, verbose=True)"
      ]
     },
     "execution_count": 10,
     "metadata": {},
     "output_type": "execute_result"
    }
   ],
   "source": [
    "ann_clf.fit(X_train, y_train)"
   ]
  },
  {
   "cell_type": "code",
   "execution_count": 11,
   "metadata": {},
   "outputs": [
    {
     "name": "stdout",
     "output_type": "stream",
     "text": [
      "Accuracy: 0.80\n"
     ]
    }
   ],
   "source": [
    "from sklearn.metrics import accuracy_score\n",
    "y_pred = ann_clf.predict(X_test)\n",
    "print('Accuracy: {:.2f}'.format(accuracy_score(y_test, y_pred)))"
   ]
  },
  {
   "cell_type": "code",
   "execution_count": 12,
   "metadata": {},
   "outputs": [
    {
     "data": {
      "text/plain": [
       "0.827875"
      ]
     },
     "execution_count": 12,
     "metadata": {},
     "output_type": "execute_result"
    }
   ],
   "source": [
    "ann_clf.score(X_train, y_train)"
   ]
  },
  {
   "cell_type": "code",
   "execution_count": 13,
   "metadata": {},
   "outputs": [
    {
     "data": {
      "text/plain": [
       "0.8015"
      ]
     },
     "execution_count": 13,
     "metadata": {},
     "output_type": "execute_result"
    }
   ],
   "source": [
    "ann_clf.score(X_test, y_test)"
   ]
  },
  {
   "cell_type": "code",
   "execution_count": 14,
   "metadata": {},
   "outputs": [
    {
     "name": "stdout",
     "output_type": "stream",
     "text": [
      "              precision    recall  f1-score   support\n",
      "\n",
      "           0       0.89      0.82      0.85       208\n",
      "           1       0.90      0.92      0.91       213\n",
      "           2       0.91      0.82      0.86       213\n",
      "           3       0.76      0.77      0.76       204\n",
      "           4       0.78      0.78      0.78       188\n",
      "           5       0.76      0.71      0.73       171\n",
      "           6       0.79      0.89      0.84       196\n",
      "           7       0.82      0.88      0.85       208\n",
      "           8       0.66      0.68      0.67       193\n",
      "           9       0.75      0.71      0.73       206\n",
      "\n",
      "    accuracy                           0.80      2000\n",
      "   macro avg       0.80      0.80      0.80      2000\n",
      "weighted avg       0.80      0.80      0.80      2000\n",
      "\n"
     ]
    }
   ],
   "source": [
    "from sklearn.metrics import classification_report\n",
    "print(classification_report(y_test, y_pred))"
   ]
  },
  {
   "cell_type": "code",
   "execution_count": 15,
   "metadata": {},
   "outputs": [
    {
     "data": {
      "text/plain": [
       "Text(0, 0.5, 'Cost')"
      ]
     },
     "execution_count": 15,
     "metadata": {},
     "output_type": "execute_result"
    },
    {
     "data": {
      "image/png": "[encoded data removed]",
      "text/plain": [
       "<Figure size 432x288 with 1 Axes>"
      ]
     },
     "metadata": {
      "needs_background": "light"
     },
     "output_type": "display_data"
    }
   ],
   "source": [
    "plt.plot(ann_clf.loss_curve_)\n",
    "plt.title('Loss Curve')\n",
    "plt.xlabel('Iterations')\n",
    "plt.ylabel('Cost')"
   ]
  },
  {
   "cell_type": "code",
   "execution_count": 16,
   "metadata": {},
   "outputs": [
    {
     "data": {
      "text/plain": [
       "[array([[ 2.18732115e-59, -3.17716293e-59,  1.26373731e-58, ...,\n",
       "         -9.62891188e-59, -9.55851170e-59, -1.10329046e-59],\n",
       "        [ 6.40828151e-59, -1.30760980e-58, -5.35374361e-61, ...,\n",
       "         -1.23236319e-58,  1.27264885e-58,  6.56410632e-59],\n",
       "        [ 7.41627363e-60,  1.21112409e-59, -2.59384452e-59, ...,\n",
       "         -9.21882844e-59, -3.17230384e-59, -8.51628626e-60],\n",
       "        ...,\n",
       "        [-9.78750292e-59,  1.08804225e-59,  5.43810215e-59, ...,\n",
       "         -8.24857447e-60,  1.37641597e-59, -1.90606056e-59],\n",
       "        [-5.36947385e-61, -2.43495887e-61, -7.15909472e-59, ...,\n",
       "         -5.59699250e-59, -5.10328030e-59,  1.75319638e-59],\n",
       "        [-2.68109987e-59,  1.94255544e-59,  5.67144322e-59, ...,\n",
       "          6.50471454e-60,  1.05887833e-58,  4.18701382e-59]]),\n",
       " array([[-0.15860578,  0.57463716, -0.68414377, ...,  0.05447805,\n",
       "         -0.1259202 ,  0.47445448],\n",
       "        [-0.18700408, -0.32583543,  0.33544704, ..., -0.16580573,\n",
       "          0.35849203, -0.23138183],\n",
       "        [-0.83669088,  0.82570083, -1.52394783, ...,  0.33111292,\n",
       "          0.19514849,  0.34977339],\n",
       "        ...,\n",
       "        [-0.07044718,  0.01837855, -0.01496493, ...,  0.04714233,\n",
       "         -0.0114765 ,  0.08825079],\n",
       "        [ 0.47121432, -0.44528867,  0.84543342, ..., -0.19859414,\n",
       "          0.32722544, -0.21066528],\n",
       "        [ 0.04075512, -0.05272349,  0.20068602, ..., -0.33038613,\n",
       "          0.15148592, -0.10247097]]),\n",
       " array([[ 2.29915384e-01, -4.48366569e-01, -6.50695957e-01,\n",
       "          5.81240695e-01, -2.89134028e-01,  1.46200032e+00,\n",
       "         -2.04603812e-01,  1.25775479e+00, -1.67379720e+00,\n",
       "         -6.35769674e-01],\n",
       "        [ 1.05584060e+00,  1.23503406e+00,  3.99153963e-01,\n",
       "         -7.28037873e-01, -1.06097261e+00, -5.01359327e-01,\n",
       "          6.45810741e-01, -2.98616191e-01, -6.07950488e-01,\n",
       "         -4.32084253e-01],\n",
       "        [-2.14586081e+00, -2.01687069e+00,  3.67567575e-01,\n",
       "          4.89785939e-01,  7.63659993e-01,  9.19537163e-01,\n",
       "         -2.59064420e+00,  5.83455678e-01, -1.53815012e+00,\n",
       "          7.51724801e-01],\n",
       "        [-1.47838598e+00,  8.64505488e-01,  2.53938665e-01,\n",
       "         -5.52286302e-01, -8.32312128e-01, -1.46172078e-01,\n",
       "          1.01989831e+00,  5.59844508e-01, -2.59221369e-01,\n",
       "         -3.30959147e-01],\n",
       "        [-8.38622171e-01, -1.54983169e+00,  8.65859258e-01,\n",
       "         -1.57348970e-01,  1.47730396e-01, -4.17263614e-01,\n",
       "          1.29825279e-01,  7.29269333e-01, -6.90024568e-01,\n",
       "          4.09323664e-01],\n",
       "        [ 3.50351039e-01, -9.59185149e-01,  5.51405542e-02,\n",
       "          9.00504986e-01,  5.38412300e-01,  1.74713996e-01,\n",
       "         -9.66376915e-01, -2.33929680e-01, -3.99301212e-01,\n",
       "          2.11518896e-01],\n",
       "        [-1.20903540e+00,  8.06482855e-01,  1.18414787e+00,\n",
       "         -5.70100366e-01, -6.04352097e-01, -9.43411790e-01,\n",
       "         -9.82107236e-01,  1.50248199e+00, -1.76441783e-01,\n",
       "         -3.33478810e-01],\n",
       "        [ 4.76910603e-01, -1.30789770e+00, -7.00913754e-01,\n",
       "         -2.57589224e-01,  2.33307035e-01, -2.61088660e-01,\n",
       "         -5.23333384e-02, -1.42345180e-01,  6.35465939e-01,\n",
       "          7.89883146e-01],\n",
       "        [-1.30447338e+00,  8.69575935e-01, -5.55476215e-01,\n",
       "          4.47592195e-01, -5.21329613e-01,  5.53189706e-01,\n",
       "         -9.68552490e-01,  5.54831151e-01,  4.82856182e-01,\n",
       "          7.71403396e-03],\n",
       "        [-8.34335644e-01,  4.17923436e-01,  9.17641203e-01,\n",
       "         -1.57689867e-02, -1.15081576e+00,  5.32965181e-01,\n",
       "          4.52124435e-01, -6.99632915e-02,  4.54109026e-01,\n",
       "         -1.33286886e+00],\n",
       "        [ 1.06122071e+00, -9.73510476e-01,  2.46641147e-01,\n",
       "         -5.25106208e-01,  3.20618807e-01, -6.03081861e-01,\n",
       "          4.66142675e-01, -1.04702432e+00,  2.33212489e-01,\n",
       "          3.39847608e-01],\n",
       "        [-1.29152512e+00,  1.20469688e+00,  6.15344968e-01,\n",
       "         -7.02559571e-01, -9.91436089e-01, -4.68101979e-01,\n",
       "          8.50756896e-01,  1.20651144e+00,  5.67608180e-02,\n",
       "         -1.05160437e+00],\n",
       "        [ 1.56693954e-01,  1.72786859e-01, -4.22828191e-01,\n",
       "          3.22305833e-01,  3.99650674e-01,  5.63434424e-01,\n",
       "         -2.66639647e-01, -7.24935857e-01,  2.53410019e-01,\n",
       "         -6.99664117e-01],\n",
       "        [-8.92635352e-01,  3.54758911e-01, -2.32668539e-01,\n",
       "          3.30339896e-01, -9.89525152e-01,  2.37039258e-01,\n",
       "         -1.35077137e+00,  6.22496091e-01,  4.31250824e-02,\n",
       "          6.38697620e-01],\n",
       "        [-1.04777731e+00,  5.67206971e-01,  1.12257113e+00,\n",
       "          7.06219500e-01, -5.72010215e-01, -9.74523150e-01,\n",
       "         -1.85180224e+00,  1.76309840e+00, -1.89417252e-01,\n",
       "         -8.20669305e-01],\n",
       "        [-9.36299338e-01,  6.79086131e-01,  1.15383814e+00,\n",
       "          7.57726557e-01, -9.33133968e-01, -1.90627407e-01,\n",
       "         -1.65707110e+00,  1.23614590e+00, -6.46729934e-01,\n",
       "         -1.02001822e+00],\n",
       "        [-1.38668208e+00,  1.06196760e+00, -1.37773769e+00,\n",
       "         -1.18803832e+00, -1.49310464e-01,  1.14680532e+00,\n",
       "          1.14003303e+00, -2.12487011e-01,  5.68807074e-01,\n",
       "          9.73516416e-02],\n",
       "        [ 6.91179916e-01, -4.91476284e-01, -7.48749099e-01,\n",
       "         -9.12391974e-01, -1.44653967e-01,  6.50058838e-01,\n",
       "          6.72095857e-01, -3.70138113e-01,  4.45357088e-01,\n",
       "          4.43063253e-01],\n",
       "        [-1.16378289e+00,  1.31832896e+00, -1.00806517e+00,\n",
       "         -4.09116851e-01,  9.35850890e-01, -6.21287150e-01,\n",
       "         -2.83973834e-01,  4.90483427e-01, -1.45437889e+00,\n",
       "          6.41259025e-01],\n",
       "        [-1.08371069e+00, -1.27292671e+00, -5.38912065e-01,\n",
       "         -1.19855880e+00,  1.05844958e+00,  1.38210542e-01,\n",
       "          1.05363858e+00, -4.35931107e-02, -1.03521886e+00,\n",
       "          6.27011812e-01],\n",
       "        [-1.08251280e+00, -8.75811010e-02,  3.94149555e-01,\n",
       "          7.15763818e-01,  7.01006733e-01, -1.47712223e+00,\n",
       "         -7.44269662e-01,  1.76485122e-01,  4.73985729e-01,\n",
       "          1.07359112e-01],\n",
       "        [ 7.98826011e-02,  8.81722502e-01,  3.00073250e-01,\n",
       "          6.68762077e-01, -1.59667699e+00,  1.98456521e-01,\n",
       "         -7.74918721e-01,  8.43656165e-02, -8.92606101e-01,\n",
       "         -3.02436363e-01],\n",
       "        [ 8.20643320e-01, -9.42264238e-01,  8.35035207e-01,\n",
       "          2.55673266e-01, -5.16338470e-01,  2.45790429e-01,\n",
       "          1.38701395e-01, -1.45895808e+00, -9.15280416e-01,\n",
       "          3.50550467e-01],\n",
       "        [-1.60103616e-01, -1.45829312e+00,  1.04167241e+00,\n",
       "          4.15991890e-01, -7.09384941e-01,  7.47819590e-01,\n",
       "         -3.53389117e-01,  8.52380587e-01, -2.27028369e-01,\n",
       "         -8.40469233e-01],\n",
       "        [ 6.43918704e-01, -1.97797125e-01, -1.10920270e+00,\n",
       "          4.16066229e-01, -1.78897740e-01,  6.40437929e-02,\n",
       "         -6.10543508e-01,  7.24596033e-02,  5.27029111e-01,\n",
       "          4.83331306e-01],\n",
       "        [ 2.49058899e-01, -1.30118052e+00,  5.22385906e-01,\n",
       "         -7.35811350e-01,  8.23208650e-01,  3.86835443e-01,\n",
       "          7.15254521e-01,  1.20526426e-01, -5.10772771e-01,\n",
       "         -1.63488378e+00],\n",
       "        [-6.86565745e-01,  3.09103770e-02, -9.68620862e-01,\n",
       "          6.39911152e-03,  4.15484326e-01,  4.82966612e-01,\n",
       "          7.62107517e-01,  4.02459735e-01, -8.08344478e-01,\n",
       "          2.60866157e-01],\n",
       "        [ 2.45897617e-01,  1.21296600e+00, -1.94026537e+00,\n",
       "         -8.14717098e-01,  4.18313307e-01, -5.25067660e-01,\n",
       "          1.09162474e+00,  4.63700815e-01, -2.72136381e-01,\n",
       "          7.67944590e-02],\n",
       "        [-9.98421656e-01, -1.41011169e+00,  8.36462373e-01,\n",
       "         -2.02710623e-02,  2.15223779e-01,  8.27656503e-01,\n",
       "         -1.05700358e+00, -1.45432733e-01,  2.33633812e-01,\n",
       "          2.20515965e-01],\n",
       "        [-8.37335834e-01,  8.11298469e-01, -2.94882406e-01,\n",
       "          7.14786123e-01,  4.98843279e-01, -1.99351601e+00,\n",
       "         -1.44230953e+00,  6.50671035e-01, -1.50330429e-01,\n",
       "          6.05870901e-01],\n",
       "        [-1.58493040e-01, -1.75577525e+00,  2.00000285e-01,\n",
       "          4.49833244e-01,  2.81384272e-01,  3.35901272e-01,\n",
       "         -1.48608185e-03, -1.19169364e+00,  5.25789088e-01,\n",
       "          2.59413491e-01],\n",
       "        [-1.42313156e+00,  1.10672771e+00, -3.65024099e-01,\n",
       "          3.92258646e-01, -8.46727887e-01,  1.04597767e+00,\n",
       "         -3.05309393e-01, -1.40108397e-01,  3.60701218e-01,\n",
       "         -6.70535064e-01],\n",
       "        [ 9.98614761e-01, -1.84690434e+00,  9.79404768e-03,\n",
       "          3.75578297e-01,  6.86662727e-01, -2.89301948e-02,\n",
       "         -5.59217524e-01, -1.00402900e+00,  1.89203538e-01,\n",
       "          5.96852547e-01],\n",
       "        [ 1.00363626e+00, -1.00651296e+00, -5.48802020e-01,\n",
       "         -9.54984990e-01,  4.79195028e-01,  1.06474489e+00,\n",
       "         -7.14160863e-01,  7.99690541e-01, -1.66035920e+00,\n",
       "          1.94363088e-01],\n",
       "        [-7.24770777e-01, -2.41730246e-01,  2.18035423e-02,\n",
       "          1.90711215e-02,  8.83440990e-01, -1.25241995e+00,\n",
       "          7.20581899e-01, -2.72316778e-01, -4.43510143e-01,\n",
       "          8.48895293e-01],\n",
       "        [-1.39294181e+00, -5.52448663e-01,  7.63718660e-01,\n",
       "         -3.72591680e-02,  4.58896218e-01, -9.76977976e-01,\n",
       "         -1.10581880e+00,  3.79427143e-01,  8.49185731e-01,\n",
       "          2.96407760e-01],\n",
       "        [ 1.04729306e+00, -7.34397493e-01, -8.14904585e-01,\n",
       "         -5.16454683e-01,  3.82600045e-01,  1.08881915e-01,\n",
       "         -1.02451992e+00, -2.23388075e-01,  4.81999678e-01,\n",
       "          6.66533505e-01],\n",
       "        [ 6.60739851e-01,  4.15724595e-02,  7.61930990e-01,\n",
       "          4.03926264e-01, -1.27415639e+00, -7.33253947e-02,\n",
       "          7.92638452e-01, -2.18878449e+00,  3.47931593e-01,\n",
       "         -1.81695092e-01],\n",
       "        [ 1.18309298e+00, -1.07336919e+00,  7.00655270e-02,\n",
       "         -8.76230146e-01, -2.67326231e-01, -1.16891771e-01,\n",
       "          1.72346923e-01,  1.15670089e-01,  4.61240992e-01,\n",
       "          1.07927982e-01],\n",
       "        [ 5.10039570e-01, -8.33661353e-01,  3.91822571e-01,\n",
       "         -2.81136775e-01,  5.93113906e-01,  5.23220368e-01,\n",
       "          4.05090169e-01, -2.17580208e+00, -1.05695293e+00,\n",
       "          1.01706724e+00],\n",
       "        [ 3.99872728e-01,  8.38687327e-01,  1.01550514e-01,\n",
       "          7.04182802e-01, -1.28779016e+00, -7.34732100e-01,\n",
       "          5.69545795e-01, -3.84576228e-01, -5.85204899e-01,\n",
       "         -5.15970997e-02],\n",
       "        [ 6.18260544e-01,  8.09219910e-01, -4.44735778e-01,\n",
       "          2.34123260e-01, -8.64951700e-01,  7.11947652e-01,\n",
       "         -6.44109653e-01, -1.10263193e+00,  4.32559916e-01,\n",
       "         -5.82284216e-01],\n",
       "        [-6.28207607e-01, -1.20616945e+00,  2.46137262e-01,\n",
       "         -4.02289330e-01,  1.12088351e+00,  3.25070829e-01,\n",
       "          6.28147094e-01, -8.22541062e-01,  4.77071817e-01,\n",
       "         -6.31996235e-01],\n",
       "        [ 9.57531724e-01, -8.25741084e-01,  7.01211542e-01,\n",
       "         -7.98015903e-01, -8.38194112e-01, -4.58457167e-01,\n",
       "          4.86855639e-01, -3.54435364e-01,  5.72695107e-01,\n",
       "         -1.53345446e-01],\n",
       "        [-2.41631931e-01,  1.36126111e+00, -1.39315452e-01,\n",
       "         -4.97569685e-01,  8.63765780e-01,  2.35791010e-01,\n",
       "          7.62342059e-01, -3.77556677e-01,  1.14116749e-01,\n",
       "         -1.43449468e+00],\n",
       "        [-1.44199723e+00, -9.59218266e-01,  1.37237715e+00,\n",
       "          2.29070710e-01, -7.05443354e-01,  1.72583785e-01,\n",
       "         -8.24200265e-01,  1.52933166e+00, -6.12085890e-02,\n",
       "         -8.14189652e-01],\n",
       "        [-2.13696457e+00,  1.54853568e-01, -8.94639206e-01,\n",
       "          4.34336033e-01,  2.06712068e-01,  2.65960601e-01,\n",
       "          9.35070735e-02, -5.50179638e-01,  3.78240294e-01,\n",
       "          6.37773238e-01],\n",
       "        [ 1.22242616e+00, -4.60505912e-01,  4.52011796e-01,\n",
       "         -7.42912807e-01, -6.13124684e-01, -1.16448186e+00,\n",
       "          3.36963434e-01,  8.32785461e-01, -8.30144946e-01,\n",
       "          1.07567393e-02],\n",
       "        [-2.00658980e+00,  9.36334591e-01, -4.10920777e-01,\n",
       "         -2.86807502e-01,  7.80584017e-01, -2.17691203e+00,\n",
       "         -1.27901844e+00,  9.13278873e-01, -1.65896080e-02,\n",
       "          5.49302164e-01],\n",
       "        [ 4.10163524e-01, -1.81547951e+00,  6.62200903e-01,\n",
       "          3.79525713e-01, -4.91820262e-02,  2.87163024e-01,\n",
       "          4.27758788e-01, -6.22431241e-01,  4.75268989e-01,\n",
       "         -1.09914215e+00]])]"
      ]
     },
     "execution_count": 16,
     "metadata": {},
     "output_type": "execute_result"
    }
   ],
   "source": [
    "ann_clf.coefs_"
   ]
  },
  {
   "cell_type": "code",
   "execution_count": 17,
   "metadata": {},
   "outputs": [
    {
     "data": {
      "text/plain": [
       "array([[-0.15860578,  0.57463716, -0.68414377, ...,  0.05447805,\n",
       "        -0.1259202 ,  0.47445448],\n",
       "       [-0.18700408, -0.32583543,  0.33544704, ..., -0.16580573,\n",
       "         0.35849203, -0.23138183],\n",
       "       [-0.83669088,  0.82570083, -1.52394783, ...,  0.33111292,\n",
       "         0.19514849,  0.34977339],\n",
       "       ...,\n",
       "       [-0.07044718,  0.01837855, -0.01496493, ...,  0.04714233,\n",
       "        -0.0114765 ,  0.08825079],\n",
       "       [ 0.47121432, -0.44528867,  0.84543342, ..., -0.19859414,\n",
       "         0.32722544, -0.21066528],\n",
       "       [ 0.04075512, -0.05272349,  0.20068602, ..., -0.33038613,\n",
       "         0.15148592, -0.10247097]])"
      ]
     },
     "execution_count": 17,
     "metadata": {},
     "output_type": "execute_result"
    }
   ],
   "source": [
    "ann_clf.coefs_[1]"
   ]
  },
  {
   "cell_type": "code",
   "execution_count": 18,
   "metadata": {},
   "outputs": [
    {
     "data": {
      "text/plain": [
       "(100, 50)"
      ]
     },
     "execution_count": 18,
     "metadata": {},
     "output_type": "execute_result"
    }
   ],
   "source": [
    "ann_clf.coefs_[1].shape"
   ]
  },
  {
   "cell_type": "code",
   "execution_count": 22,
   "metadata": {},
   "outputs": [
    {
     "data": {
      "text/plain": [
       "<matplotlib.image.AxesImage at 0x2574be86520>"
      ]
     },
     "execution_count": 22,
     "metadata": {},
     "output_type": "execute_result"
    },
    {
     "data": {
      "image/png": "[encoded data removed]",
      "text/plain": [
       "<Figure size 432x288 with 1 Axes>"
      ]
     },
     "metadata": {
      "needs_background": "light"
     },
     "output_type": "display_data"
    }
   ],
   "source": [
    "X = np.array(X)\n",
    "y = np.array(y)\n",
    "\n",
    "img = X[62].reshape(28, 28)\n",
    "plt.imshow(img)"
   ]
  },
  {
   "cell_type": "code",
   "execution_count": 23,
   "metadata": {},
   "outputs": [
    {
     "data": {
      "text/plain": [
       "<matplotlib.image.AxesImage at 0x2574beec580>"
      ]
     },
     "execution_count": 23,
     "metadata": {},
     "output_type": "execute_result"
    },
    {
     "data": {
      "image/png": "[encoded data removed]",
      "text/plain": [
       "<Figure size 432x288 with 1 Axes>"
      ]
     },
     "metadata": {
      "needs_background": "light"
     },
     "output_type": "display_data"
    }
   ],
   "source": [
    "plt.imshow(img, cmap='gray')"
   ]
  }
 ],
 "metadata": {
  "interpreter": {
   "hash": "fcdafa320b1bd52415b4da26a3e91d8c55e0b68a992d8fe533e9215398eb0247"
  },
  "kernelspec": {
   "display_name": "Python 3.9.7 ('base')",
   "language": "python",
   "name": "python3"
  },
  "language_info": {
   "codemirror_mode": {
    "name": "ipython",
    "version": 3
   },
   "file_extension": ".py",
   "mimetype": "text/x-python",
   "name": "python",
   "nbconvert_exporter": "python",
   "pygments_lexer": "ipython3",
   "version": "3.9.7"
  },
  "orig_nbformat": 4
 },
 "nbformat": 4,
 "nbformat_minor": 2
}
