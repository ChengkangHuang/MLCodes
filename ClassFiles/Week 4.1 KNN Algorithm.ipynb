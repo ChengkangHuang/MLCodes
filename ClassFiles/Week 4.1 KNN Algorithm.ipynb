{
 "cells": [
  {
   "cell_type": "code",
   "execution_count": 1,
   "metadata": {},
   "outputs": [],
   "source": [
    "import numpy as np\n",
    "from matplotlib import pyplot as plt"
   ]
  },
  {
   "cell_type": "code",
   "execution_count": 28,
   "metadata": {},
   "outputs": [],
   "source": [
    "def createDataSet():\n",
    "    \"\"\" Creates a smple data set for classification tasks.\n",
    "    Returns a (data, labels) tuple.\"\"\"\n",
    "    data = np.array([[0.9,0.8],[1.0,1.0],[0.2,0],[0,0.1]])\n",
    "    labels = np.array(['A','A','B','B'])\n",
    "    return data, labels\n",
    "\n",
    "data, labels = createDataSet()"
   ]
  },
  {
   "cell_type": "code",
   "execution_count": 29,
   "metadata": {},
   "outputs": [
    {
     "data": {
      "text/plain": [
       "array([[0.9, 0.8],\n",
       "       [1. , 1. ],\n",
       "       [0.2, 0. ],\n",
       "       [0. , 0.1]])"
      ]
     },
     "execution_count": 29,
     "metadata": {},
     "output_type": "execute_result"
    }
   ],
   "source": [
    "data"
   ]
  },
  {
   "cell_type": "code",
   "execution_count": 30,
   "metadata": {},
   "outputs": [
    {
     "data": {
      "text/plain": [
       "(4, 2)"
      ]
     },
     "execution_count": 30,
     "metadata": {},
     "output_type": "execute_result"
    }
   ],
   "source": [
    "data.shape"
   ]
  },
  {
   "cell_type": "code",
   "execution_count": 4,
   "metadata": {},
   "outputs": [
    {
     "data": {
      "text/plain": [
       "array(['A', 'A', 'B', 'B'], dtype='<U1')"
      ]
     },
     "execution_count": 4,
     "metadata": {},
     "output_type": "execute_result"
    }
   ],
   "source": [
    "labels"
   ]
  },
  {
   "cell_type": "code",
   "execution_count": 5,
   "metadata": {},
   "outputs": [
    {
     "name": "stdout",
     "output_type": "stream",
     "text": [
      "[0.9 0.8]\n",
      "A\n"
     ]
    }
   ],
   "source": [
    "print(data[0])\n",
    "print(labels[0])"
   ]
  },
  {
   "cell_type": "code",
   "execution_count": 6,
   "metadata": {},
   "outputs": [
    {
     "data": {
      "image/png": "[encoded data removed]",
      "text/plain": [
       "<Figure size 432x288 with 1 Axes>"
      ]
     },
     "metadata": {
      "needs_background": "light"
     },
     "output_type": "display_data"
    }
   ],
   "source": [
    "plt.figure(1)\n",
    "data, labels = createDataSet()\n",
    "plt.scatter(data[:2, 0], data[:2, 1], color = \"r\")\n",
    "plt.scatter(data[2:, 0], data[2:, 1], color = \"b\")\n",
    "plt.scatter(0.5, 0.5, marker=\"x\", color=\"black\")\n",
    "plt.show()"
   ]
  },
  {
   "cell_type": "code",
   "execution_count": 7,
   "metadata": {},
   "outputs": [
    {
     "data": {
      "text/plain": [
       "array([[0.9, 0.8],\n",
       "       [1. , 1. ],\n",
       "       [0.2, 0. ],\n",
       "       [0. , 0.1]])"
      ]
     },
     "execution_count": 7,
     "metadata": {},
     "output_type": "execute_result"
    }
   ],
   "source": [
    "data"
   ]
  },
  {
   "cell_type": "code",
   "execution_count": 8,
   "metadata": {},
   "outputs": [],
   "source": [
    "new = np.array([0.5, 0.5])"
   ]
  },
  {
   "cell_type": "code",
   "execution_count": 9,
   "metadata": {},
   "outputs": [
    {
     "data": {
      "text/plain": [
       "array([[ 0.4,  0.3],\n",
       "       [ 0.5,  0.5],\n",
       "       [-0.3, -0.5],\n",
       "       [-0.5, -0.4]])"
      ]
     },
     "execution_count": 9,
     "metadata": {},
     "output_type": "execute_result"
    }
   ],
   "source": [
    "data - new"
   ]
  },
  {
   "cell_type": "code",
   "execution_count": 10,
   "metadata": {},
   "outputs": [
    {
     "data": {
      "text/plain": [
       "array([[0.16, 0.09],\n",
       "       [0.25, 0.25],\n",
       "       [0.09, 0.25],\n",
       "       [0.25, 0.16]])"
      ]
     },
     "execution_count": 10,
     "metadata": {},
     "output_type": "execute_result"
    }
   ],
   "source": [
    "(data - new) ** 2"
   ]
  },
  {
   "cell_type": "code",
   "execution_count": 11,
   "metadata": {},
   "outputs": [
    {
     "data": {
      "text/plain": [
       "array([0.25, 0.5 , 0.34, 0.41])"
      ]
     },
     "execution_count": 11,
     "metadata": {},
     "output_type": "execute_result"
    }
   ],
   "source": [
    "((data - new) ** 2).sum(axis = 1)   # sum the columns, this is applied on all rows using new point"
   ]
  },
  {
   "cell_type": "code",
   "execution_count": 12,
   "metadata": {},
   "outputs": [
    {
     "data": {
      "text/plain": [
       "array([0.5       , 0.70710678, 0.58309519, 0.64031242])"
      ]
     },
     "execution_count": 12,
     "metadata": {},
     "output_type": "execute_result"
    }
   ],
   "source": [
    "distanceArray = np.sqrt(((data - new) ** 2).sum(axis = 1))\n",
    "distanceArray"
   ]
  },
  {
   "cell_type": "code",
   "execution_count": 13,
   "metadata": {},
   "outputs": [
    {
     "data": {
      "text/plain": [
       "'A'"
      ]
     },
     "execution_count": 13,
     "metadata": {},
     "output_type": "execute_result"
    }
   ],
   "source": [
    "# Apply the NN algorithm\n",
    "min_dist_point = labels[distanceArray.argmin()]\n",
    "min_dist_point"
   ]
  },
  {
   "cell_type": "code",
   "execution_count": 14,
   "metadata": {},
   "outputs": [
    {
     "data": {
      "text/plain": [
       "'B'"
      ]
     },
     "execution_count": 14,
     "metadata": {},
     "output_type": "execute_result"
    }
   ],
   "source": [
    "new2 = np.array([0.3, 0.3])\n",
    "distanceArray = np.sqrt(((data - new2) ** 2).sum(axis = 1))\n",
    "min_dist_point = labels[distanceArray.argmin()]\n",
    "min_dist_point"
   ]
  },
  {
   "cell_type": "code",
   "execution_count": 15,
   "metadata": {},
   "outputs": [
    {
     "data": {
      "text/plain": [
       "array([[74,  9, 27, 72, 86, 77, 88, 97, 77, 63],\n",
       "       [80, 36, 48, 37, 18, 46, 17, 43, 96, 89],\n",
       "       [63, 46,  8, 89, 10, 79, 37, 14, 37, 88],\n",
       "       [ 2, 21, 31, 98, 52, 88, 24, 76, 79, 96],\n",
       "       [47, 94, 50, 87,  5, 48, 39, 51, 10, 53],\n",
       "       [ 1, 17, 65,  9, 46,  9, 42,  4, 90, 29],\n",
       "       [23, 56, 40, 83, 94, 10, 92, 24, 81,  2],\n",
       "       [55, 33, 52, 32, 26, 57, 22, 18, 50, 69],\n",
       "       [35, 46, 69, 68, 51, 37, 51, 50,  7, 31],\n",
       "       [ 2, 68, 27, 95, 58,  1, 55, 60, 54, 22],\n",
       "       [38, 33, 18, 88, 97, 97, 24, 81,  5, 51],\n",
       "       [71, 71, 49, 24, 43, 50, 64, 83, 13,  4],\n",
       "       [80, 61, 13, 52, 40, 17, 43,  7, 25, 85],\n",
       "       [33, 49, 11, 35, 45, 71, 99, 36, 60, 43],\n",
       "       [24, 91,  4, 53, 68, 28, 53, 63, 77, 40],\n",
       "       [90, 61, 53, 75, 43, 67, 70, 44, 60, 89],\n",
       "       [29, 77, 89, 29, 35, 47, 74, 28, 42, 55],\n",
       "       [86, 93,  9, 55, 49, 54,  9,  1, 56, 85],\n",
       "       [71, 68, 84, 67, 19, 35, 18, 96, 82, 46],\n",
       "       [23, 43, 62, 28, 84, 83, 12, 58, 66, 42],\n",
       "       [44, 91, 40, 67, 81, 50, 39, 84, 64, 81],\n",
       "       [66, 50, 84, 71, 29, 24, 58, 49, 98, 41],\n",
       "       [22, 76, 91, 72, 40, 32, 37, 96, 71, 18],\n",
       "       [51, 58, 66, 77, 58, 64,  9, 25, 64, 17],\n",
       "       [21, 80,  5,  1, 64, 59, 70, 63, 55, 60],\n",
       "       [12, 40, 50, 41, 96, 75, 75, 51, 18, 78],\n",
       "       [16, 49, 35, 65, 83,  3, 51,  7, 50, 69],\n",
       "       [38,  1, 63, 94,  1, 83, 49, 83, 76, 26],\n",
       "       [65, 77, 18, 17, 29,  8, 14, 59, 44, 17],\n",
       "       [39, 10, 77, 86, 46, 48, 60, 68, 69, 70],\n",
       "       [54, 50, 82, 93, 65, 57, 30, 94, 21, 23],\n",
       "       [84, 46, 39, 21, 45, 50, 93, 46, 12, 82],\n",
       "       [89, 16, 17, 62, 51, 36, 81, 72, 24, 16],\n",
       "       [82, 10, 80, 67, 50, 52, 87, 75, 52, 87],\n",
       "       [41, 95, 60, 80, 30, 52, 12, 42, 84, 78],\n",
       "       [45, 57, 68, 85, 80, 18, 27, 53, 32, 94],\n",
       "       [65, 21, 43, 59, 92, 26, 24, 88, 52, 49],\n",
       "       [95, 90, 15, 12, 37, 73, 65, 68,  1, 64],\n",
       "       [93, 15, 70, 22, 53, 49, 72, 15, 36, 43],\n",
       "       [14,  1, 12,  2, 36, 39, 92, 29, 84, 88],\n",
       "       [99, 61,  2, 16, 11, 18, 64, 97, 53, 85],\n",
       "       [ 1, 83, 14, 48, 12, 62, 15, 19, 43, 20],\n",
       "       [51, 79, 50,  9, 78, 26, 23, 10, 19, 63],\n",
       "       [71, 70, 24, 36, 35, 74, 67, 38, 65, 54],\n",
       "       [45, 72, 46,  7, 92, 21, 44, 79, 15, 44],\n",
       "       [94, 29, 81, 51, 95, 90, 53, 50, 18, 43],\n",
       "       [37, 33, 62, 17, 75,  4, 12, 36,  4,  6],\n",
       "       [91, 23, 12, 57, 30, 27, 63, 47, 86, 15],\n",
       "       [73,  1, 39,  1, 31, 76,  9, 27, 51, 38],\n",
       "       [ 6, 93, 57, 80, 56, 15, 42, 16,  8, 20],\n",
       "       [31, 65, 18, 91, 84, 32, 27, 16, 97, 84],\n",
       "       [51, 20, 96, 22, 48, 28, 12, 73, 57, 46],\n",
       "       [23,  2, 93, 42, 29, 93,  7, 24, 75,  7],\n",
       "       [94, 64, 98, 29, 55, 38, 63, 20,  9,  8],\n",
       "       [65, 20, 84, 19, 92, 66, 18, 39, 87, 39],\n",
       "       [14, 20, 84, 41, 60, 32, 18, 11, 46, 47],\n",
       "       [87,  1,  4, 66, 56, 54, 75, 23, 66, 80],\n",
       "       [93, 39, 42, 36, 30, 41, 77, 61,  4, 59],\n",
       "       [73, 50, 57, 41, 33,  2, 34, 26, 75, 46],\n",
       "       [41, 84, 62, 24, 81, 96, 25, 80,  1, 78],\n",
       "       [39, 29, 45, 54,  8, 97, 82, 82, 56, 64],\n",
       "       [43, 20, 60, 43, 96, 43, 23, 53, 72, 69],\n",
       "       [34, 61, 26, 54, 93, 30,  9, 41, 45,  4],\n",
       "       [90, 39, 89, 37, 84, 56,  5, 48, 85, 27],\n",
       "       [53, 67, 93, 37, 92, 69, 28, 74, 28, 72],\n",
       "       [67, 21, 34, 23, 72, 36, 32, 48, 58, 98],\n",
       "       [63, 46, 70, 71, 92, 61, 11, 84, 62, 85],\n",
       "       [18, 10, 29, 68, 98, 43, 32,  9, 19, 23],\n",
       "       [78,  4, 86,  1, 90, 55, 50, 87, 83, 65],\n",
       "       [10, 54, 31,  6, 15, 99, 99, 51, 72, 45],\n",
       "       [91, 71, 77, 39, 15, 54, 65, 89, 55, 59],\n",
       "       [56,  4, 75, 53, 69, 42, 90, 61, 65, 27],\n",
       "       [ 3, 10, 33, 78, 64, 32, 54, 12, 63, 65],\n",
       "       [48, 15, 94, 61, 78, 66, 78, 85, 83, 23],\n",
       "       [47, 13, 75, 37, 44, 74, 55, 32,  1, 87],\n",
       "       [93, 42, 75,  8, 25, 18, 35, 97, 54, 31],\n",
       "       [63, 95, 68, 95, 81, 14,  1, 73, 46, 75],\n",
       "       [92, 51, 31,  1, 50,  9,  6, 28, 20, 86],\n",
       "       [63, 89, 81, 14, 20, 71,  1, 54, 40, 95],\n",
       "       [97, 43, 77, 68, 67,  5, 85, 22, 35, 85],\n",
       "       [16,  4, 51, 81, 14,  7, 68, 76, 30, 48],\n",
       "       [59, 92, 11, 51, 52,  2, 21, 39, 67, 49],\n",
       "       [65, 34, 53, 47, 37, 47, 47, 80, 77,  9],\n",
       "       [83, 88, 64, 16, 29, 86, 98,  3, 85, 13],\n",
       "       [48, 43, 75, 14, 89, 86, 43, 71, 37, 25],\n",
       "       [61, 91, 40, 78, 64, 24, 12, 17,  4,  2],\n",
       "       [54,  2, 92, 84, 95, 76, 57, 49, 53, 71],\n",
       "       [39, 67, 57, 45, 61, 80, 33, 77, 58, 91],\n",
       "       [31, 84, 73, 36, 88, 38,  5, 90, 64, 78],\n",
       "       [32, 52, 41, 23, 16, 99, 84, 28, 66,  6],\n",
       "       [32, 51, 63, 17,  7, 45, 40, 90, 37, 69],\n",
       "       [61, 83, 16, 90, 60, 48, 73, 94, 62, 51],\n",
       "       [50, 54, 56, 83, 74, 43, 52, 89, 47, 90],\n",
       "       [36, 10, 54, 33, 10,  8,  6, 96, 26, 79],\n",
       "       [73, 19, 11, 43, 68, 86, 99,  8, 90, 53],\n",
       "       [79, 11, 63, 31, 33, 46, 82, 13, 49, 72],\n",
       "       [69, 94, 97, 47, 59, 68, 84, 40, 20, 90],\n",
       "       [24, 15, 15, 25, 12, 60, 63, 74, 66, 12],\n",
       "       [95, 43, 23, 17, 16, 26, 47, 63, 41, 48],\n",
       "       [95, 33, 15, 92, 81, 19, 56, 44, 13, 73]])"
      ]
     },
     "execution_count": 15,
     "metadata": {},
     "output_type": "execute_result"
    }
   ],
   "source": [
    "data = np.random.randint(1, 100, [100, 10])\n",
    "data"
   ]
  },
  {
   "cell_type": "code",
   "execution_count": 16,
   "metadata": {},
   "outputs": [
    {
     "data": {
      "text/plain": [
       "array([50., 50., 50., 50., 50., 50., 50., 50., 50., 50.])"
      ]
     },
     "execution_count": 16,
     "metadata": {},
     "output_type": "execute_result"
    }
   ],
   "source": [
    "new3 = np.ones(10) * 50\n",
    "new3"
   ]
  },
  {
   "cell_type": "code",
   "execution_count": 31,
   "metadata": {},
   "outputs": [
    {
     "data": {
      "text/plain": [
       "(2,)"
      ]
     },
     "execution_count": 31,
     "metadata": {},
     "output_type": "execute_result"
    }
   ],
   "source": [
    "new.shape"
   ]
  },
  {
   "cell_type": "code",
   "execution_count": 17,
   "metadata": {},
   "outputs": [
    {
     "data": {
      "text/plain": [
       "array([ 99.22701245,  84.16650165,  94.81033699, 107.54998838,\n",
       "        84.10707461, 106.3672882 , 105.80642703,  58.61740356,\n",
       "        57.50652137,  92.58509599, 104.79503805,  79.86238163,\n",
       "        85.62125904,  72.44308111,  79.35363886,  68.92024376,\n",
       "        67.19374971, 101.04949282,  87.04022059,  74.02026749,\n",
       "        74.16872656,  73.62064928,  88.3119471 ,  70.00714249,\n",
       "        84.48668534,  82.46211251,  84.35638684, 102.38163898,\n",
       "        88.17028978,  70.36334273,  84.07734534,  80.57294831,\n",
       "        85.93020424,  84.7584804 ,  83.41462701,  79.65550828,\n",
       "        75.23961722, 100.68763579,  78.87965517, 112.10263155,\n",
       "       110.29959202,  97.53460924,  85.68547135,  56.46237685,\n",
       "        84.36231386,  89.69949833, 100.61808982,  86.7813344 ,\n",
       "        94.04254356,  99.39315872,  99.10095862,  79.5424415 ,\n",
       "       110.61193426,  97.77525249,  88.86506625,  80.1685724 ,\n",
       "        93.29523032,  75.88148654,  68.73863542,  99.21693404,\n",
       "        82.80096618,  69.61321714,  84.3860178 ,  91.57510579,\n",
       "        80.43009387,  74.10128204,  83.40863265,  97.14422268,\n",
       "       104.427008  , 102.2252415 ,  77.87810989,  75.40557009,\n",
       "        85.18215776,  90.29396436,  83.08429454,  93.60555539,\n",
       "       101.83810682, 104.03845443,  99.14635646,  95.31002046,\n",
       "        93.71766109,  83.22860085,  63.21392252, 112.82287002,\n",
       "        77.94228634, 102.52316811,  91.87491497,  65.32993188,\n",
       "        91.84225607,  92.34175654,  75.4122006 ,  81.73126697,\n",
       "        70.        , 104.56576878, 102.24480427,  77.94228634,\n",
       "        93.14504818,  87.97726979,  76.72678802,  95.89056262])"
      ]
     },
     "execution_count": 17,
     "metadata": {},
     "output_type": "execute_result"
    }
   ],
   "source": [
    "distanceArray = np.sqrt(((data - new3) ** 2).sum(axis = 1))\n",
    "distanceArray"
   ]
  },
  {
   "cell_type": "code",
   "execution_count": 18,
   "metadata": {},
   "outputs": [
    {
     "data": {
      "text/plain": [
       "43"
      ]
     },
     "execution_count": 18,
     "metadata": {},
     "output_type": "execute_result"
    }
   ],
   "source": [
    "min_dist_point = distanceArray.argmin()\n",
    "min_dist_point"
   ]
  },
  {
   "cell_type": "code",
   "execution_count": 19,
   "metadata": {},
   "outputs": [
    {
     "data": {
      "text/plain": [
       "array([71, 70, 24, 36, 35, 74, 67, 38, 65, 54])"
      ]
     },
     "execution_count": 19,
     "metadata": {},
     "output_type": "execute_result"
    }
   ],
   "source": [
    "data[distanceArray.argmin()]"
   ]
  },
  {
   "cell_type": "code",
   "execution_count": 20,
   "metadata": {},
   "outputs": [
    {
     "data": {
      "text/plain": [
       "array([[71, 70, 24, 36, 35, 74, 67, 38, 65, 54],\n",
       "       [35, 46, 69, 68, 51, 37, 51, 50,  7, 31],\n",
       "       [55, 33, 52, 32, 26, 57, 22, 18, 50, 69]])"
      ]
     },
     "execution_count": 20,
     "metadata": {},
     "output_type": "execute_result"
    }
   ],
   "source": [
    "# k = 3\n",
    "data[distanceArray.argsort()[:3]]   # Slice the top 3 value"
   ]
  },
  {
   "cell_type": "code",
   "execution_count": 21,
   "metadata": {},
   "outputs": [
    {
     "data": {
      "text/plain": [
       "array([[71, 70, 24, 36, 35, 74, 67, 38, 65, 54],\n",
       "       [35, 46, 69, 68, 51, 37, 51, 50,  7, 31],\n",
       "       [55, 33, 52, 32, 26, 57, 22, 18, 50, 69],\n",
       "       [65, 34, 53, 47, 37, 47, 47, 80, 77,  9],\n",
       "       [39, 67, 57, 45, 61, 80, 33, 77, 58, 91]])"
      ]
     },
     "execution_count": 21,
     "metadata": {},
     "output_type": "execute_result"
    }
   ],
   "source": [
    "# k = 5\n",
    "data[distanceArray.argsort()[:5]]   # Slice the top 5 value"
   ]
  },
  {
   "cell_type": "code",
   "execution_count": 22,
   "metadata": {},
   "outputs": [],
   "source": [
    "def createDataSet2():\n",
    "    \"\"\"Creates 100 points (50 labelled \"A\" and 50 labelled \"B\") designed \n",
    "    to have an overlap for coordinates from [40,40] to [50,50]. \n",
    "    Returns a (data, labels) tuple.\"\"\"\n",
    "    data = np.random.randint(1,50,(50,2)).tolist()\n",
    "    data.extend(np.random.randint(40,90,(50,2)).tolist())\n",
    "    data = np.array(data)\n",
    "    labels = ['A' for i in range(50)]\n",
    "    labels.extend(['B' for i in range(50)])\n",
    "    labels = np.array(labels)\n",
    "    return data, labels\n",
    "\n",
    "data, labels = createDataSet2()"
   ]
  },
  {
   "cell_type": "code",
   "execution_count": 23,
   "metadata": {},
   "outputs": [
    {
     "data": {
      "text/plain": [
       "array([[39,  7],\n",
       "       [47, 31],\n",
       "       [34, 33],\n",
       "       [30, 39],\n",
       "       [10, 43],\n",
       "       [24, 43],\n",
       "       [48, 21],\n",
       "       [10, 22],\n",
       "       [38, 27],\n",
       "       [44, 24],\n",
       "       [ 2,  6],\n",
       "       [43, 17],\n",
       "       [20, 27],\n",
       "       [23, 24],\n",
       "       [ 7, 31],\n",
       "       [ 6, 26],\n",
       "       [13, 22],\n",
       "       [22, 35],\n",
       "       [14, 39],\n",
       "       [16, 48],\n",
       "       [47,  9],\n",
       "       [42, 27],\n",
       "       [16,  1],\n",
       "       [ 8, 22],\n",
       "       [49, 47],\n",
       "       [48, 34],\n",
       "       [24, 45],\n",
       "       [27, 20],\n",
       "       [41, 23],\n",
       "       [44, 15],\n",
       "       [ 1, 35],\n",
       "       [25,  9],\n",
       "       [33, 32],\n",
       "       [ 4, 27],\n",
       "       [14, 49],\n",
       "       [28, 24],\n",
       "       [ 4, 39],\n",
       "       [36,  8],\n",
       "       [20, 33],\n",
       "       [45, 29],\n",
       "       [ 5, 48],\n",
       "       [12, 10],\n",
       "       [43,  6],\n",
       "       [46, 44],\n",
       "       [31,  5],\n",
       "       [26, 11],\n",
       "       [ 6,  9],\n",
       "       [42,  6],\n",
       "       [ 2, 38],\n",
       "       [41, 31],\n",
       "       [70, 76],\n",
       "       [80, 51],\n",
       "       [79, 60],\n",
       "       [76, 88],\n",
       "       [43, 43],\n",
       "       [40, 88],\n",
       "       [72, 43],\n",
       "       [45, 42],\n",
       "       [73, 62],\n",
       "       [65, 75],\n",
       "       [41, 54],\n",
       "       [65, 58],\n",
       "       [85, 76],\n",
       "       [47, 47],\n",
       "       [50, 42],\n",
       "       [87, 89],\n",
       "       [79, 80],\n",
       "       [43, 75],\n",
       "       [82, 83],\n",
       "       [41, 54],\n",
       "       [81, 58],\n",
       "       [63, 65],\n",
       "       [56, 81],\n",
       "       [55, 45],\n",
       "       [81, 65],\n",
       "       [72, 72],\n",
       "       [45, 44],\n",
       "       [87, 76],\n",
       "       [64, 57],\n",
       "       [60, 61],\n",
       "       [58, 79],\n",
       "       [70, 50],\n",
       "       [87, 40],\n",
       "       [47, 73],\n",
       "       [85, 57],\n",
       "       [87, 68],\n",
       "       [55, 85],\n",
       "       [60, 72],\n",
       "       [80, 40],\n",
       "       [50, 43],\n",
       "       [54, 57],\n",
       "       [89, 47],\n",
       "       [49, 48],\n",
       "       [89, 56],\n",
       "       [79, 53],\n",
       "       [64, 80],\n",
       "       [59, 63],\n",
       "       [51, 42],\n",
       "       [52, 58],\n",
       "       [88, 76]])"
      ]
     },
     "execution_count": 23,
     "metadata": {},
     "output_type": "execute_result"
    }
   ],
   "source": [
    "data"
   ]
  },
  {
   "cell_type": "code",
   "execution_count": 24,
   "metadata": {},
   "outputs": [
    {
     "data": {
      "text/plain": [
       "array(['A', 'A', 'A', 'A', 'A', 'A', 'A', 'A', 'A', 'A', 'A', 'A', 'A',\n",
       "       'A', 'A', 'A', 'A', 'A', 'A', 'A', 'A', 'A', 'A', 'A', 'A', 'A',\n",
       "       'A', 'A', 'A', 'A', 'A', 'A', 'A', 'A', 'A', 'A', 'A', 'A', 'A',\n",
       "       'A', 'A', 'A', 'A', 'A', 'A', 'A', 'A', 'A', 'A', 'A', 'B', 'B',\n",
       "       'B', 'B', 'B', 'B', 'B', 'B', 'B', 'B', 'B', 'B', 'B', 'B', 'B',\n",
       "       'B', 'B', 'B', 'B', 'B', 'B', 'B', 'B', 'B', 'B', 'B', 'B', 'B',\n",
       "       'B', 'B', 'B', 'B', 'B', 'B', 'B', 'B', 'B', 'B', 'B', 'B', 'B',\n",
       "       'B', 'B', 'B', 'B', 'B', 'B', 'B', 'B', 'B'], dtype='<U1')"
      ]
     },
     "execution_count": 24,
     "metadata": {},
     "output_type": "execute_result"
    }
   ],
   "source": [
    "labels"
   ]
  },
  {
   "cell_type": "code",
   "execution_count": 25,
   "metadata": {},
   "outputs": [
    {
     "data": {
      "image/png": "[encoded data removed]",
      "text/plain": [
       "<Figure size 432x288 with 1 Axes>"
      ]
     },
     "metadata": {
      "needs_background": "light"
     },
     "output_type": "display_data"
    }
   ],
   "source": [
    "plt.figure(2)\n",
    "data, labels = createDataSet2()\n",
    "plt.scatter(data[:50, 0], data[:50, 1], color = \"r\")\n",
    "plt.scatter(data[50:, 0], data[50:, 1], color = \"b\")\n",
    "plt.scatter(np.random.randint(1, 90, 1), np.random.randint(1, 90, 1), marker=\"x\", color=\"black\")\n",
    "plt.show()"
   ]
  },
  {
   "cell_type": "code",
   "execution_count": 26,
   "metadata": {},
   "outputs": [],
   "source": [
    "new4 = np.array([4, 4])\n",
    "distanceArray = np.sqrt(((data - new4) ** 2).sum(axis = 1))\n"
   ]
  }
 ],
 "metadata": {
  "interpreter": {
   "hash": "fcdafa320b1bd52415b4da26a3e91d8c55e0b68a992d8fe533e9215398eb0247"
  },
  "kernelspec": {
   "display_name": "Python 3.9.7 64-bit ('base': conda)",
   "language": "python",
   "name": "python3"
  },
  "language_info": {
   "codemirror_mode": {
    "name": "ipython",
    "version": 3
   },
   "file_extension": ".py",
   "mimetype": "text/x-python",
   "name": "python",
   "nbconvert_exporter": "python",
   "pygments_lexer": "ipython3",
   "version": "3.9.7"
  },
  "orig_nbformat": 4
 },
 "nbformat": 4,
 "nbformat_minor": 2
}
