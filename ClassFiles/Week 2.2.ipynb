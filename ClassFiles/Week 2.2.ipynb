{
 "cells": [
  {
   "cell_type": "markdown",
   "metadata": {},
   "source": [
    "#### Array Programming with Numpy"
   ]
  },
  {
   "cell_type": "code",
   "execution_count": 3,
   "metadata": {},
   "outputs": [],
   "source": [
    "import numpy as np"
   ]
  },
  {
   "cell_type": "code",
   "execution_count": 53,
   "metadata": {},
   "outputs": [
    {
     "data": {
      "text/plain": [
       "4"
      ]
     },
     "execution_count": 53,
     "metadata": {},
     "output_type": "execute_result"
    }
   ],
   "source": [
    "l1 = [10, 'str', 30, 40]\n",
    "np.array(l1)\n",
    "len(np.array(l1))"
   ]
  },
  {
   "cell_type": "code",
   "execution_count": 10,
   "metadata": {},
   "outputs": [],
   "source": [
    "l2 = [1, 2, 3, 4]\n",
    "a1 = np.array(l2)"
   ]
  },
  {
   "cell_type": "code",
   "execution_count": 12,
   "metadata": {},
   "outputs": [
    {
     "data": {
      "text/plain": [
       "numpy.ndarray"
      ]
     },
     "execution_count": 12,
     "metadata": {},
     "output_type": "execute_result"
    }
   ],
   "source": [
    "type(a1)"
   ]
  },
  {
   "cell_type": "code",
   "execution_count": 29,
   "metadata": {},
   "outputs": [
    {
     "data": {
      "text/plain": [
       "array([[1, 2, 3, 4],\n",
       "       [4, 5, 6, 7]])"
      ]
     },
     "execution_count": 29,
     "metadata": {},
     "output_type": "execute_result"
    }
   ],
   "source": [
    "n2 = np.array([[1, 2, 3, 4], [4, 5, 6, 7]])\n",
    "n2"
   ]
  },
  {
   "cell_type": "code",
   "execution_count": 91,
   "metadata": {},
   "outputs": [
    {
     "data": {
      "text/plain": [
       "array([[0., 0., 0., 0.],\n",
       "       [0., 0., 0., 0.],\n",
       "       [0., 0., 0., 0.],\n",
       "       [0., 0., 0., 0.],\n",
       "       [0., 0., 0., 0.]])"
      ]
     },
     "execution_count": 91,
     "metadata": {},
     "output_type": "execute_result"
    }
   ],
   "source": [
    "n3 = np.zeros((5, 4))\n",
    "n3"
   ]
  },
  {
   "cell_type": "code",
   "execution_count": 18,
   "metadata": {},
   "outputs": [
    {
     "data": {
      "text/plain": [
       "array([[55, 55, 55],\n",
       "       [55, 55, 55],\n",
       "       [55, 55, 55]])"
      ]
     },
     "execution_count": 18,
     "metadata": {},
     "output_type": "execute_result"
    }
   ],
   "source": [
    "n4 = np.full((3, 3), 55)\n",
    "n4"
   ]
  },
  {
   "cell_type": "code",
   "execution_count": 21,
   "metadata": {},
   "outputs": [
    {
     "data": {
      "text/plain": [
       "array([10, 11, 12, 13, 14, 15, 16, 17, 18, 19, 20, 21, 22, 23, 24, 25, 26,\n",
       "       27, 28, 29, 30, 31, 32, 33, 34, 35, 36, 37, 38, 39, 40, 41, 42, 43,\n",
       "       44, 45, 46, 47, 48, 49])"
      ]
     },
     "execution_count": 21,
     "metadata": {},
     "output_type": "execute_result"
    }
   ],
   "source": [
    "n5 = np.arange(10, 50)\n",
    "n5"
   ]
  },
  {
   "cell_type": "code",
   "execution_count": 27,
   "metadata": {},
   "outputs": [
    {
     "data": {
      "text/plain": [
       "array([103, 123, 100, 149, 141])"
      ]
     },
     "execution_count": 27,
     "metadata": {},
     "output_type": "execute_result"
    }
   ],
   "source": [
    "n6 = np.random.randint(100, 200, 5)\n",
    "n6"
   ]
  },
  {
   "cell_type": "code",
   "execution_count": 26,
   "metadata": {},
   "outputs": [
    {
     "data": {
      "text/plain": [
       "(5,)"
      ]
     },
     "execution_count": 26,
     "metadata": {},
     "output_type": "execute_result"
    }
   ],
   "source": [
    "n6.shape"
   ]
  },
  {
   "cell_type": "markdown",
   "metadata": {},
   "source": [
    "####Related Array"
   ]
  },
  {
   "cell_type": "code",
   "execution_count": 43,
   "metadata": {},
   "outputs": [
    {
     "data": {
      "text/plain": [
       "array([151, 133, 134, 151, 127])"
      ]
     },
     "execution_count": 43,
     "metadata": {},
     "output_type": "execute_result"
    }
   ],
   "source": [
    "scores = np.random.randint(100, 200, 5)\n",
    "scores"
   ]
  },
  {
   "cell_type": "code",
   "execution_count": 44,
   "metadata": {},
   "outputs": [
    {
     "data": {
      "text/plain": [
       "array(['ann', 'jack', 'mark', 'joe', 'tine'], dtype='<U4')"
      ]
     },
     "execution_count": 44,
     "metadata": {},
     "output_type": "execute_result"
    }
   ],
   "source": [
    "names = np.array([\"ann\", \"jack\", \"mark\", \"joe\", \"tine\"])\n",
    "names"
   ]
  },
  {
   "cell_type": "code",
   "execution_count": 45,
   "metadata": {},
   "outputs": [
    {
     "data": {
      "text/plain": [
       "array([40, 35, 25, 27, 33])"
      ]
     },
     "execution_count": 45,
     "metadata": {},
     "output_type": "execute_result"
    }
   ],
   "source": [
    "ages = np.array([40, 35, 25, 27, 33])\n",
    "ages"
   ]
  },
  {
   "cell_type": "code",
   "execution_count": 47,
   "metadata": {},
   "outputs": [
    {
     "data": {
      "text/plain": [
       "array([151])"
      ]
     },
     "execution_count": 47,
     "metadata": {},
     "output_type": "execute_result"
    }
   ],
   "source": [
    "scores[names==\"ann\"]"
   ]
  },
  {
   "cell_type": "code",
   "execution_count": 48,
   "metadata": {},
   "outputs": [
    {
     "data": {
      "text/plain": [
       "array(['ann', 'joe'], dtype='<U4')"
      ]
     },
     "execution_count": 48,
     "metadata": {},
     "output_type": "execute_result"
    }
   ],
   "source": [
    "names[scores > 150]"
   ]
  },
  {
   "cell_type": "code",
   "execution_count": 49,
   "metadata": {},
   "outputs": [
    {
     "data": {
      "text/plain": [
       "array([40, 27])"
      ]
     },
     "execution_count": 49,
     "metadata": {},
     "output_type": "execute_result"
    }
   ],
   "source": [
    "ages[scores > 150]"
   ]
  },
  {
   "cell_type": "code",
   "execution_count": 50,
   "metadata": {},
   "outputs": [
    {
     "data": {
      "text/plain": [
       "33.5"
      ]
     },
     "execution_count": 50,
     "metadata": {},
     "output_type": "execute_result"
    }
   ],
   "source": [
    "ages[scores > 150].mean()"
   ]
  },
  {
   "cell_type": "code",
   "execution_count": 52,
   "metadata": {},
   "outputs": [
    {
     "data": {
      "text/plain": [
       "'ann'"
      ]
     },
     "execution_count": 52,
     "metadata": {},
     "output_type": "execute_result"
    }
   ],
   "source": [
    "# find the player with max score\n",
    "names[scores.argmax()]"
   ]
  },
  {
   "cell_type": "code",
   "execution_count": 53,
   "metadata": {},
   "outputs": [
    {
     "data": {
      "text/plain": [
       "'tine'"
      ]
     },
     "execution_count": 53,
     "metadata": {},
     "output_type": "execute_result"
    }
   ],
   "source": [
    "names[scores.argmin()]"
   ]
  },
  {
   "cell_type": "code",
   "execution_count": 55,
   "metadata": {},
   "outputs": [
    {
     "data": {
      "text/plain": [
       "array([0, 1, 3, 2, 4], dtype=int64)"
      ]
     },
     "execution_count": 55,
     "metadata": {},
     "output_type": "execute_result"
    }
   ],
   "source": [
    "# Sort the array base on \n",
    "names.argsort()"
   ]
  },
  {
   "cell_type": "code",
   "execution_count": 57,
   "metadata": {},
   "outputs": [
    {
     "data": {
      "text/plain": [
       "array(['ann', 'jack', 'joe', 'mark', 'tine'], dtype='<U4')"
      ]
     },
     "execution_count": 57,
     "metadata": {},
     "output_type": "execute_result"
    }
   ],
   "source": [
    "names[names.argsort()]"
   ]
  },
  {
   "cell_type": "code",
   "execution_count": 58,
   "metadata": {},
   "outputs": [
    {
     "data": {
      "text/plain": [
       "array([40, 35, 27, 25, 33])"
      ]
     },
     "execution_count": 58,
     "metadata": {},
     "output_type": "execute_result"
    }
   ],
   "source": [
    "ages[names.argsort()]"
   ]
  },
  {
   "cell_type": "code",
   "execution_count": 59,
   "metadata": {},
   "outputs": [
    {
     "data": {
      "text/plain": [
       "array([151, 133, 151, 134, 127])"
      ]
     },
     "execution_count": 59,
     "metadata": {},
     "output_type": "execute_result"
    }
   ],
   "source": [
    "scores[names.argsort()]"
   ]
  },
  {
   "cell_type": "code",
   "execution_count": 61,
   "metadata": {},
   "outputs": [
    {
     "data": {
      "text/plain": [
       "array([2, 0], dtype=int64)"
      ]
     },
     "execution_count": 61,
     "metadata": {},
     "output_type": "execute_result"
    }
   ],
   "source": [
    "scores.argsort()[2:4]"
   ]
  },
  {
   "cell_type": "code",
   "execution_count": 62,
   "metadata": {},
   "outputs": [
    {
     "data": {
      "text/plain": [
       "array([4, 1, 2, 0], dtype=int64)"
      ]
     },
     "execution_count": 62,
     "metadata": {},
     "output_type": "execute_result"
    }
   ],
   "source": [
    "scores.argsort()[:4]"
   ]
  },
  {
   "cell_type": "code",
   "execution_count": 63,
   "metadata": {},
   "outputs": [
    {
     "data": {
      "text/plain": [
       "array([3, 0, 2, 1, 4], dtype=int64)"
      ]
     },
     "execution_count": 63,
     "metadata": {},
     "output_type": "execute_result"
    }
   ],
   "source": [
    "scores.argsort()[::-1]"
   ]
  },
  {
   "cell_type": "code",
   "execution_count": 64,
   "metadata": {},
   "outputs": [
    {
     "data": {
      "text/plain": [
       "'ann'"
      ]
     },
     "execution_count": 64,
     "metadata": {},
     "output_type": "execute_result"
    }
   ],
   "source": [
    "names[scores.argmax()]"
   ]
  },
  {
   "cell_type": "code",
   "execution_count": 71,
   "metadata": {},
   "outputs": [
    {
     "data": {
      "text/plain": [
       "{'Alicia', 'Khadija', 'Lachlan', 'Lee', 'Margie'}"
      ]
     },
     "execution_count": 71,
     "metadata": {},
     "output_type": "execute_result"
    }
   ],
   "source": [
    "nameSet = {'Alicia', 'Khadija', 'Lachlan', 'Lee', 'Margie'}\n",
    "nameSet"
   ]
  },
  {
   "cell_type": "code",
   "execution_count": 75,
   "metadata": {},
   "outputs": [
    {
     "data": {
      "text/plain": [
       "array({'Margie', 'Lachlan', 'Khadija', 'Alicia', 'Lee'}, dtype=object)"
      ]
     },
     "execution_count": 75,
     "metadata": {},
     "output_type": "execute_result"
    }
   ],
   "source": [
    "nameList1 = np.array(set(('Alicia', 'Khadija', 'Lachlan', 'Lee', 'Margie')))\n",
    "nameList1"
   ]
  },
  {
   "cell_type": "code",
   "execution_count": 90,
   "metadata": {},
   "outputs": [
    {
     "data": {
      "text/plain": [
       "{'Alicia', 'Khadija', 'Lachlan', 'Lee', 'Margie'}"
      ]
     },
     "execution_count": 90,
     "metadata": {},
     "output_type": "execute_result"
    }
   ],
   "source": [
    "nameList1.item()"
   ]
  },
  {
   "cell_type": "code",
   "execution_count": 83,
   "metadata": {},
   "outputs": [
    {
     "name": "stdout",
     "output_type": "stream",
     "text": [
      "Margie\n",
      "Lachlan\n",
      "Khadija\n",
      "Alicia\n",
      "Lee\n"
     ]
    }
   ],
   "source": [
    "for n in nameList1.item():\n",
    "    print(n)"
   ]
  },
  {
   "cell_type": "code",
   "execution_count": 34,
   "metadata": {},
   "outputs": [
    {
     "data": {
      "text/plain": [
       "array(['Alicia', 'Khadija', 'Lachlan', 'Lee', 'Margie'], dtype='<U7')"
      ]
     },
     "execution_count": 34,
     "metadata": {},
     "output_type": "execute_result"
    }
   ],
   "source": [
    "names = np.array(['Alicia', 'Khadija', 'Lachlan', 'Lee', 'Margie'])\n",
    "names"
   ]
  },
  {
   "cell_type": "code",
   "execution_count": 35,
   "metadata": {},
   "outputs": [
    {
     "data": {
      "text/plain": [
       "array([[0.127, 0.257, 0.112, 0.239, 0.113, 0.239, 0.129, 0.239, 0.128],\n",
       "       [0.43 , 0.447, 0.432, 0.433, 0.383, 0.4  , 0.224, 0.256, 0.241],\n",
       "       [0.128, 0.32 , 0.112, 0.288, 0.111, 0.273, 0.128, 0.255, 0.129],\n",
       "       [0.112, 0.112, 0.113, 0.111, 0.127, 0.114, 0.132, 0.107, 0.112],\n",
       "       [0.127, 0.241, 0.112, 0.049, 0.112, 0.239, 0.128, 0.448, 0.111]])"
      ]
     },
     "execution_count": 35,
     "metadata": {},
     "output_type": "execute_result"
    }
   ],
   "source": [
    "times = np.array([\n",
    "    [0.127, 0.257, 0.112, 0.239, 0.113, 0.239, 0.129, 0.239, 0.128], \n",
    "    [0.43, 0.447, 0.432, 0.433, 0.383, 0.4, 0.224, 0.256, 0.241], \n",
    "    [0.128, 0.32, 0.112, 0.288, 0.111, 0.273, 0.128, 0.255, 0.129], \n",
    "    [0.112, 0.112, 0.113, 0.111, 0.127, 0.114, 0.132, 0.107, 0.112], \n",
    "    [0.127, 0.241, 0.112, 0.049, 0.112, 0.239, 0.128, 0.448, 0.111]])\n",
    "times"
   ]
  },
  {
   "cell_type": "code",
   "execution_count": 36,
   "metadata": {},
   "outputs": [
    {
     "name": "stdout",
     "output_type": "stream",
     "text": [
      "[0.17588889 0.36066667 0.19377778 0.11555556 0.17411111]\n",
      "[0.112 0.224 0.111 0.107 0.049]\n",
      "[0.257 0.447 0.32  0.132 0.448]\n"
     ]
    }
   ],
   "source": [
    "meanTimes = np.zeros((5))\n",
    "singleFast = np.zeros((5))\n",
    "singleSlow = np.zeros((5))\n",
    "for i in range(len(times)):\n",
    "    meanTimes[i] = times[i].mean()\n",
    "    singleFast[i] = times[i].min()\n",
    "    singleSlow[i] = times[i].max()\n",
    "print(meanTimes)\n",
    "print(singleFast)\n",
    "print(singleSlow)"
   ]
  },
  {
   "cell_type": "code",
   "execution_count": 37,
   "metadata": {},
   "outputs": [
    {
     "name": "stdout",
     "output_type": "stream",
     "text": [
      "['Alicia' 'Khadija' 'Lachlan' 'Lee' 'Margie']\n",
      "[0.17588889 0.36066667 0.19377778 0.11555556 0.17411111]\n",
      "Fastest Average Time: 0.11555555555555556 by Lee\n",
      "Slowest Average Time: 0.3606666666666667 by Khadija\n",
      "Fastest Single Time: 0.049 by Margie\n",
      "Slowest Single Time: 0.448 by Margie\n"
     ]
    }
   ],
   "source": [
    "print(names[names.argsort()])\n",
    "print(meanTimes[names.argsort()])\n",
    "print(\"Fastest Average Time: \" + str(meanTimes.min()) + \" by \" + names[meanTimes.argmin()])\n",
    "print(\"Slowest Average Time: \" + str(meanTimes.max()) + \" by \" + names[meanTimes.argmax()])\n",
    "print(\"Fastest Single Time: \" + str(singleFast.min()) + \" by \" + names[singleFast.argmin()])\n",
    "print(\"Slowest Single Time: \" + str(singleSlow.max()) + \" by \" + names[singleSlow.argmax()])"
   ]
  },
  {
   "cell_type": "code",
   "execution_count": 52,
   "metadata": {},
   "outputs": [
    {
     "name": "stdout",
     "output_type": "stream",
     "text": [
      "Names: ['Alicia' 'Khadija' 'Lachlan' 'Lee' 'Margie']\n",
      "Mean times: [0.176 0.361 0.194 0.116 0.174]\n",
      "Fastest Average Time: 0.116 by Lee\n",
      "Slowest Average Time: 0.361 by Khadija\n",
      "Fastest Single Time: 0.049 by Margie\n",
      "Slowest Single Time: 0.448 by Margie\n"
     ]
    }
   ],
   "source": [
    "print(\"Names: {}\".format(names[names.argsort()]))\n",
    "print(\"Mean times: {}\".format(times[names.argsort()].mean(axis = 1).round(3)))\n",
    "print(\"Fastest Average Time: {0:.3f} by {1}\".format(np.mean(times, axis = 1).min(), names[np.average(times, axis = 1).argmin()]))\n",
    "print(\"Slowest Average Time: {0:.3f} by {1}\".format(np.mean(times, axis = 1).max(), names[np.average(times, axis = 1).argmax()]))\n",
    "print(\"Fastest Single Time: {0:.3f} by {1}\".format(np.min(times, axis = 1).min(), names[np.min(times, axis = 1).argmin()]))\n",
    "print(\"Slowest Single Time: {0:.3f} by {1}\".format(np.max(times, axis = 1).max(), names[np.max(times, axis = 1).argmax()]))"
   ]
  }
 ],
 "metadata": {
  "interpreter": {
   "hash": "fcdafa320b1bd52415b4da26a3e91d8c55e0b68a992d8fe533e9215398eb0247"
  },
  "kernelspec": {
   "display_name": "Python 3.9.7 64-bit ('base': conda)",
   "language": "python",
   "name": "python3"
  },
  "language_info": {
   "codemirror_mode": {
    "name": "ipython",
    "version": 3
   },
   "file_extension": ".py",
   "mimetype": "text/x-python",
   "name": "python",
   "nbconvert_exporter": "python",
   "pygments_lexer": "ipython3",
   "version": "3.9.7"
  },
  "orig_nbformat": 4
 },
 "nbformat": 4,
 "nbformat_minor": 2
}
