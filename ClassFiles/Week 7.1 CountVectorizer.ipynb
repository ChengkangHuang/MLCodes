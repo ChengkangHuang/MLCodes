{
 "cells": [
  {
   "cell_type": "code",
   "execution_count": 1,
   "metadata": {},
   "outputs": [],
   "source": [
    "import numpy as np\n",
    "from matplotlib import pyplot as plt\n",
    "import pandas as pd\n",
    "from sklearn.feature_extraction.text import CountVectorizer"
   ]
  },
  {
   "cell_type": "code",
   "execution_count": 2,
   "metadata": {},
   "outputs": [],
   "source": [
    "rev_corpus =[\"I loved the “Squid Game” good series.\",\n",
    "             \"good show, loved it!\",\n",
    "             \"worst series ever! Pathetic!\",\n",
    "             \"don't waste your time, worst storyline, and direction.\",\n",
    "             \"love it! love it! good direction\", \n",
    "             \"waste and pathetic\"]"
   ]
  },
  {
   "cell_type": "markdown",
   "metadata": {},
   "source": [
    "#### CountVectorizer with default \"Bag of Words (Unigrams n-1)\""
   ]
  },
  {
   "cell_type": "code",
   "execution_count": 3,
   "metadata": {},
   "outputs": [],
   "source": [
    "c_vectorizer = CountVectorizer(stop_words=\"english\")"
   ]
  },
  {
   "cell_type": "code",
   "execution_count": 4,
   "metadata": {},
   "outputs": [
    {
     "data": {
      "text/plain": [
       "<6x13 sparse matrix of type '<class 'numpy.int64'>'\n",
       "\twith 21 stored elements in Compressed Sparse Row format>"
      ]
     },
     "execution_count": 4,
     "metadata": {},
     "output_type": "execute_result"
    }
   ],
   "source": [
    "# Learning the vocabulary dictionary and return document-term matrix\n",
    "dt_matrix = c_vectorizer.fit_transform(rev_corpus)\n",
    "dt_matrix"
   ]
  },
  {
   "cell_type": "code",
   "execution_count": 5,
   "metadata": {},
   "outputs": [
    {
     "data": {
      "text/plain": [
       "{'loved': 5,\n",
       " 'squid': 8,\n",
       " 'game': 2,\n",
       " 'good': 3,\n",
       " 'series': 7,\n",
       " 'worst': 12,\n",
       " 'pathetic': 6,\n",
       " 'don': 1,\n",
       " 'waste': 11,\n",
       " 'time': 10,\n",
       " 'storyline': 9,\n",
       " 'direction': 0,\n",
       " 'love': 4}"
      ]
     },
     "execution_count": 5,
     "metadata": {},
     "output_type": "execute_result"
    }
   ],
   "source": [
    "dd = c_vectorizer.vocabulary_\n",
    "dd"
   ]
  },
  {
   "cell_type": "code",
   "execution_count": 6,
   "metadata": {},
   "outputs": [
    {
     "name": "stderr",
     "output_type": "stream",
     "text": [
      "C:\\Users\\cheng\\anaconda3\\lib\\site-packages\\sklearn\\utils\\deprecation.py:87: FutureWarning: Function get_feature_names is deprecated; get_feature_names is deprecated in 1.0 and will be removed in 1.2. Please use get_feature_names_out instead.\n",
      "  warnings.warn(msg, category=FutureWarning)\n"
     ]
    },
    {
     "data": {
      "text/plain": [
       "['direction',\n",
       " 'don',\n",
       " 'game',\n",
       " 'good',\n",
       " 'love',\n",
       " 'loved',\n",
       " 'pathetic',\n",
       " 'series',\n",
       " 'squid',\n",
       " 'storyline',\n",
       " 'time',\n",
       " 'waste',\n",
       " 'worst']"
      ]
     },
     "execution_count": 6,
     "metadata": {},
     "output_type": "execute_result"
    }
   ],
   "source": [
    "c_vectorizer.get_feature_names()\n",
    "# c_vectorizer.get_feature_names_out()"
   ]
  },
  {
   "cell_type": "code",
   "execution_count": 7,
   "metadata": {},
   "outputs": [
    {
     "data": {
      "text/plain": [
       "array([[0, 0, 1, 1, 0, 1, 0, 1, 1, 0, 0, 0, 0],\n",
       "       [0, 0, 0, 1, 0, 1, 0, 0, 0, 0, 0, 0, 0],\n",
       "       [0, 0, 0, 0, 0, 0, 1, 1, 0, 0, 0, 0, 1],\n",
       "       [1, 1, 0, 0, 0, 0, 0, 0, 0, 1, 1, 1, 1],\n",
       "       [1, 0, 0, 1, 2, 0, 0, 0, 0, 0, 0, 0, 0],\n",
       "       [0, 0, 0, 0, 0, 0, 1, 0, 0, 0, 0, 1, 0]], dtype=int64)"
      ]
     },
     "execution_count": 7,
     "metadata": {},
     "output_type": "execute_result"
    }
   ],
   "source": [
    "dt_matrix.toarray()"
   ]
  },
  {
   "cell_type": "code",
   "execution_count": 8,
   "metadata": {},
   "outputs": [],
   "source": [
    "c_vectorizer2 = CountVectorizer(stop_words=\"english\", ngram_range=(2, 2))\n",
    "dt_matrix2 = c_vectorizer2.fit_transform(rev_corpus)"
   ]
  },
  {
   "cell_type": "code",
   "execution_count": 9,
   "metadata": {},
   "outputs": [
    {
     "data": {
      "text/plain": [
       "{'loved squid': 7,\n",
       " 'squid game': 9,\n",
       " 'game good': 1,\n",
       " 'good series': 4,\n",
       " 'good loved': 3,\n",
       " 'worst series': 14,\n",
       " 'series pathetic': 8,\n",
       " 'don waste': 0,\n",
       " 'waste time': 13,\n",
       " 'time worst': 11,\n",
       " 'worst storyline': 15,\n",
       " 'storyline direction': 10,\n",
       " 'love love': 6,\n",
       " 'love good': 5,\n",
       " 'good direction': 2,\n",
       " 'waste pathetic': 12}"
      ]
     },
     "execution_count": 9,
     "metadata": {},
     "output_type": "execute_result"
    }
   ],
   "source": [
    "dd2 = c_vectorizer2.vocabulary_\n",
    "dd2"
   ]
  },
  {
   "cell_type": "code",
   "execution_count": 10,
   "metadata": {},
   "outputs": [
    {
     "data": {
      "text/plain": [
       "array(['don waste', 'game good', 'good direction', 'good loved',\n",
       "       'good series', 'love good', 'love love', 'loved squid',\n",
       "       'series pathetic', 'squid game', 'storyline direction',\n",
       "       'time worst', 'waste pathetic', 'waste time', 'worst series',\n",
       "       'worst storyline'], dtype=object)"
      ]
     },
     "execution_count": 10,
     "metadata": {},
     "output_type": "execute_result"
    }
   ],
   "source": [
    "c_vectorizer2.get_feature_names_out()"
   ]
  },
  {
   "cell_type": "code",
   "execution_count": 11,
   "metadata": {},
   "outputs": [],
   "source": [
    "c_vectorizer2.vocabulary_.get(\"squid\")"
   ]
  },
  {
   "cell_type": "code",
   "execution_count": 12,
   "metadata": {},
   "outputs": [],
   "source": [
    "ngram_vectorizer = CountVectorizer(analyzer=\"char_wb\", stop_words=\"english\", ngram_range=(2, 2))\n",
    "dt_matrix2 = ngram_vectorizer.fit_transform([\"Beauuutiful\", \"Beautiful\"])"
   ]
  },
  {
   "cell_type": "code",
   "execution_count": 13,
   "metadata": {},
   "outputs": [
    {
     "data": {
      "text/plain": [
       "{' b': 0,\n",
       " 'be': 2,\n",
       " 'ea': 3,\n",
       " 'au': 1,\n",
       " 'uu': 10,\n",
       " 'ut': 9,\n",
       " 'ti': 7,\n",
       " 'if': 5,\n",
       " 'fu': 4,\n",
       " 'ul': 8,\n",
       " 'l ': 6}"
      ]
     },
     "execution_count": 13,
     "metadata": {},
     "output_type": "execute_result"
    }
   ],
   "source": [
    "dd3 = ngram_vectorizer.vocabulary_\n",
    "dd3"
   ]
  },
  {
   "cell_type": "code",
   "execution_count": 14,
   "metadata": {},
   "outputs": [
    {
     "data": {
      "text/plain": [
       "array([' b', 'au', 'be', 'ea', 'fu', 'if', 'l ', 'ti', 'ul', 'ut', 'uu'],\n",
       "      dtype=object)"
      ]
     },
     "execution_count": 14,
     "metadata": {},
     "output_type": "execute_result"
    }
   ],
   "source": [
    "ngram_vectorizer.get_feature_names_out()"
   ]
  }
 ],
 "metadata": {
  "interpreter": {
   "hash": "fcdafa320b1bd52415b4da26a3e91d8c55e0b68a992d8fe533e9215398eb0247"
  },
  "kernelspec": {
   "display_name": "Python 3.9.7 ('base')",
   "language": "python",
   "name": "python3"
  },
  "language_info": {
   "codemirror_mode": {
    "name": "ipython",
    "version": 3
   },
   "file_extension": ".py",
   "mimetype": "text/x-python",
   "name": "python",
   "nbconvert_exporter": "python",
   "pygments_lexer": "ipython3",
   "version": "3.9.7"
  },
  "orig_nbformat": 4
 },
 "nbformat": 4,
 "nbformat_minor": 2
}
